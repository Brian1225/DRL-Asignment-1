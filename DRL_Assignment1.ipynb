{
  "cells": [
    {
      "cell_type": "markdown",
      "metadata": {
        "id": "5fwkxPaZaMFv"
      },
      "source": [
        "# **Deep Reinforcement Learning Class Spring 2025 Assignment 1**\n",
        "\n",
        "In this assignment, we will learn about gym interface, gridworld, q-learning, and etc. You will need to fill in the missing code snippets (marked by TODO).\n",
        "\n",
        "Make a copy of this notebook using File > Save a copy in Drive and edit it with your answers.\n",
        "\n",
        "WARNING: Do not put your name or any other personal identification information in this notebook."
      ]
    },
    {
      "cell_type": "markdown",
      "metadata": {
        "id": "JBxTGl3naxWP"
      },
      "source": [
        "# **Question 1:** Implement and Familiarize Yourself with a Grid World Environment\n",
        "We will first become familiar with the grid world environment.\n",
        "\n",
        "In this question, you need to implement a simple 3×3 grid world from scratch. Specifically, you should define functions such as reset(), step(), and render().\n",
        "\n",
        "Additionally, you should explore and gain familiarity with MiniGrid in OpenAI Gym."
      ]
    },
    {
      "cell_type": "markdown",
      "metadata": {
        "id": "NUkMZlgrboIe"
      },
      "source": [
        "To define your GridWorldEnv."
      ]
    },
    {
      "cell_type": "code",
      "execution_count": 1,
      "metadata": {
        "id": "A26hkoXFP3uD"
      },
      "outputs": [],
      "source": [
        "import numpy as np\n",
        "import matplotlib.pyplot as plt\n",
        "import time\n",
        "\n",
        "class GridWorldEnv:\n",
        "    def __init__(self, size=5):\n",
        "        \"\"\"\n",
        "        ✅ Grid World Environment\n",
        "        - `size`: Grid size (default 5x5)\n",
        "        - `agent_pos`: Initial position (0,0)\n",
        "        - `goal_pos`: Goal position (size-1, size-1)\n",
        "        - `reward`: +1 for reaching the goal, -0.1 per step\n",
        "        \"\"\"\n",
        "        self.size = size\n",
        "        self.agent_pos = [0, 0]  # Start position\n",
        "        self.goal_pos = [size - 1, size - 1]  # Goal position\n",
        "        self.done = False\n",
        "\n",
        "    def reset(self):\n",
        "        \"\"\"\n",
        "        ✅ Reset the environment\n",
        "        - Reset `agent_pos` to (0,0)\n",
        "        - Set `done` to False\n",
        "        - Return the initial state\n",
        "        \"\"\"\n",
        "        # TODO: Reset the agent's position to (0,0)\n",
        "        self.agent_pos = [0, 0]\n",
        "\n",
        "        # TODO: Set `done` to False\n",
        "        self.done = False\n",
        "\n",
        "        # TODO: Return the initial state as a NumPy array\n",
        "        return np.zeros((self.size, self.size))\n",
        "\n",
        "    def step(self, action):\n",
        "        \"\"\"\n",
        "        ✅ Step function (move the agent)\n",
        "        - `action=0`: Left (←)\n",
        "        - `action=1`: Right (→)\n",
        "        - `action=2`: Up (↑)\n",
        "        - `action=3`: Down (↓)\n",
        "        - After moving, calculate the reward (+1 for goal, -0.1 per step)\n",
        "        - If the goal is reached, set `done=True`\n",
        "        \"\"\"\n",
        "        # TODO: Implement movement logic based on the given action\n",
        "        action_map = {0: [-1, 0], 1: [1, 0], 2: [0, -1], 3: [0, 1]}\n",
        "        self.agent_pos[0] += action_map[action][0]\n",
        "        if self.agent_pos[0] < 0:\n",
        "            self.agent_pos[0] = 0\n",
        "        elif self.agent_pos[0] >= self.size:\n",
        "            self.agent_pos[0] = self.size - 1\n",
        "\n",
        "        self.agent_pos[1] += action_map[action][1]\n",
        "        if self.agent_pos[1] < 0:\n",
        "            self.agent_pos[1] = 0\n",
        "        elif self.agent_pos[1] >= self.size:\n",
        "            self.agent_pos[1] = self.size - 1\n",
        "\n",
        "        # TODO: Implement reward logic\n",
        "        # If the agent reaches the goal, give +1 reward and set `done=True`\n",
        "        if self.agent_pos == self.goal_pos:\n",
        "            reward = 1\n",
        "            self.done = True\n",
        "        else:\n",
        "            reward = -1\n",
        "        # TODO: Return the new state (NumPy array), reward, and `done` status\n",
        "\n",
        "        return np.zeros((self.size, self.size)), reward, self.done\n",
        "\n",
        "    def render(self):\n",
        "        \"\"\"\n",
        "        ✅ Render the environment\n",
        "        - Draw the grid, marking the agent and the goal\n",
        "        \"\"\"\n",
        "        # TODO: Create a grid of zeros with shape (size, size)\n",
        "        grid = np.zeros((self.size, self.size))\n",
        "\n",
        "        # TODO: Mark the goal position with 2\n",
        "        grid[self.goal_pos[0], self.goal_pos[1]] = 2\n",
        "\n",
        "        # TODO: Mark the agent position with 1\n",
        "        grid[self.agent_pos[0], self.agent_pos[1]] = 1\n",
        "        # print(self.agent_pos)\n",
        "        # TODO: Display the grid using matplotlib\n",
        "        plt.imshow(grid, cmap='gray')\n",
        "        plt.show()\n"
      ]
    },
    {
      "cell_type": "markdown",
      "metadata": {
        "id": "puSGK5Va-XFy"
      },
      "source": [
        "This cell of code is designed to verify whether your implementation of the MiniGrid environment is correct.\n",
        "\n",
        "⚠️ **Do not modify this cell**—any changes will result in a score of **0** for your own GridWorldEnv code above.\n",
        "\n",
        "🎯 How to Get 10 Points?  \n",
        " 1️⃣ Run the code below successfully.  \n",
        " 2️⃣ Observe the agent randomly moving in the 3x3 GridWorld.(3 pts for reset/ 3 pts for render)  \n",
        " 3️⃣ The agent should reach the goal (🏆) eventually and stop.(4pts for step)  \n",
        " 4️⃣ If everything works, congratulations! You earned 10 points! 🎉  "
      ]
    },
    {
      "cell_type": "code",
      "execution_count": 2,
      "metadata": {
        "colab": {
          "base_uri": "https://localhost:8080/",
          "height": 1000
        },
        "id": "kPpuNekkQgtb",
        "outputId": "e43db9d0-660d-471b-8624-43eeb652005f"
      },
      "outputs": [
        {
          "name": "stdout",
          "output_type": "stream",
          "text": [
            "🚀 Random Action Agent Starts!\n"
          ]
        },
        {
          "data": {
            "image/png": "[encoded data removed]",
            "text/plain": [
              "<Figure size 640x480 with 1 Axes>"
            ]
          },
          "metadata": {},
          "output_type": "display_data"
        },
        {
          "name": "stdout",
          "output_type": "stream",
          "text": [
            "Action: 2, Reward: -1, Done: False\n"
          ]
        },
        {
          "data": {
            "image/png": "[encoded data removed]",
            "text/plain": [
              "<Figure size 640x480 with 1 Axes>"
            ]
          },
          "metadata": {},
          "output_type": "display_data"
        },
        {
          "name": "stdout",
          "output_type": "stream",
          "text": [
            "Action: 0, Reward: -1, Done: False\n"
          ]
        },
        {
          "data": {
            "image/png": "[encoded data removed]",
            "text/plain": [
              "<Figure size 640x480 with 1 Axes>"
            ]
          },
          "metadata": {},
          "output_type": "display_data"
        },
        {
          "name": "stdout",
          "output_type": "stream",
          "text": [
            "Action: 1, Reward: -1, Done: False\n"
          ]
        },
        {
          "data": {
            "image/png": "[encoded data removed]",
            "text/plain": [
              "<Figure size 640x480 with 1 Axes>"
            ]
          },
          "metadata": {},
          "output_type": "display_data"
        },
        {
          "name": "stdout",
          "output_type": "stream",
          "text": [
            "Action: 2, Reward: -1, Done: False\n"
          ]
        },
        {
          "data": {
            "image/png": "[encoded data removed]",
            "text/plain": [
              "<Figure size 640x480 with 1 Axes>"
            ]
          },
          "metadata": {},
          "output_type": "display_data"
        },
        {
          "name": "stdout",
          "output_type": "stream",
          "text": [
            "Action: 0, Reward: -1, Done: False\n"
          ]
        },
        {
          "data": {
            "image/png": "[encoded data removed]",
            "text/plain": [
              "<Figure size 640x480 with 1 Axes>"
            ]
          },
          "metadata": {},
          "output_type": "display_data"
        },
        {
          "name": "stdout",
          "output_type": "stream",
          "text": [
            "Action: 1, Reward: -1, Done: False\n"
          ]
        },
        {
          "data": {
            "image/png": "[encoded data removed]",
            "text/plain": [
              "<Figure size 640x480 with 1 Axes>"
            ]
          },
          "metadata": {},
          "output_type": "display_data"
        },
        {
          "name": "stdout",
          "output_type": "stream",
          "text": [
            "Action: 2, Reward: -1, Done: False\n"
          ]
        },
        {
          "data": {
            "image/png": "[encoded data removed]",
            "text/plain": [
              "<Figure size 640x480 with 1 Axes>"
            ]
          },
          "metadata": {},
          "output_type": "display_data"
        },
        {
          "name": "stdout",
          "output_type": "stream",
          "text": [
            "Action: 3, Reward: -1, Done: False\n"
          ]
        },
        {
          "data": {
            "image/png": "[encoded data removed]",
            "text/plain": [
              "<Figure size 640x480 with 1 Axes>"
            ]
          },
          "metadata": {},
          "output_type": "display_data"
        },
        {
          "name": "stdout",
          "output_type": "stream",
          "text": [
            "Action: 3, Reward: -1, Done: False\n"
          ]
        },
        {
          "data": {
            "image/png": "[encoded data removed]",
            "text/plain": [
              "<Figure size 640x480 with 1 Axes>"
            ]
          },
          "metadata": {},
          "output_type": "display_data"
        },
        {
          "name": "stdout",
          "output_type": "stream",
          "text": [
            "Action: 1, Reward: 1, Done: True\n"
          ]
        }
      ],
      "source": [
        "import random\n",
        "\n",
        "env = GridWorldEnv(size=3)\n",
        "obs = env.reset()\n",
        "done = False\n",
        "\n",
        "print(\"🚀 Random Action Agent Starts!\")\n",
        "while not done:\n",
        "    action = random.choice([0, 1, 2, 3])\n",
        "    obs, reward, done = env.step(action)\n",
        "    env.render()\n",
        "    print(f\"Action: {action}, Reward: {reward}, Done: {done}\")\n",
        "    time.sleep(0.5)  # Wait for visualization"
      ]
    },
    {
      "cell_type": "markdown",
      "metadata": {
        "id": "fvHVAIjRfLvs"
      },
      "source": [
        "## **Setup**\n",
        "Run the following skeleton code to set up the necessary imports and plotting functions."
      ]
    },
    {
      "cell_type": "code",
      "execution_count": 3,
      "metadata": {
        "colab": {
          "base_uri": "https://localhost:8080/"
        },
        "id": "OFhjN-Tp-A1C",
        "outputId": "d05714e0-6a0c-4534-dc82-8a7269a9c6ba"
      },
      "outputs": [
        {
          "name": "stderr",
          "output_type": "stream",
          "text": [
            "/home/chunyulin/anaconda3/envs/drl_hw1/lib/python3.10/site-packages/gym/envs/registration.py:307: DeprecationWarning: The package name gym_minigrid has been deprecated in favor of minigrid. Please uninstall gym_minigrid and install minigrid with `pip install minigrid`. Future releases will be maintained under the new package name minigrid.\n",
            "  fn()\n"
          ]
        }
      ],
      "source": [
        "# !pip install gym-minigrid\n",
        "import gym\n",
        "import gym_minigrid\n",
        "import os\n",
        "import matplotlib.pyplot as plt\n",
        "import imageio\n",
        "import numpy as np\n",
        "from IPython.display import Image\n"
      ]
    },
    {
      "cell_type": "markdown",
      "metadata": {
        "id": "V5a55E73gdT1"
      },
      "source": [
        "## **Understanding the Gym MiniGrid Environment**\n",
        "In this section, we will initialize a MiniGrid environment and explore its key properties.\n",
        "\n",
        "***What is MiniGrid?***\n",
        "\n",
        "MiniGrid is a lightweight grid world environment designed for reinforcement learning. The agent interacts with the environment by taking actions, receiving observations, and collecting rewards. It serves as an ideal testing ground for developing and evaluating reinforcement learning algorithms."
      ]
    },
    {
      "cell_type": "markdown",
      "metadata": {
        "id": "m9p6WTS-_zU2"
      },
      "source": [
        "Simply execute this cell to retrieve key information about the environment."
      ]
    },
    {
      "cell_type": "code",
      "execution_count": 4,
      "metadata": {
        "colab": {
          "base_uri": "https://localhost:8080/"
        },
        "id": "Ywe2bKWwDWUl",
        "outputId": "2277c618-8c49-4f54-f4ac-b60bcdbbb050"
      },
      "outputs": [
        {
          "name": "stdout",
          "output_type": "stream",
          "text": [
            "Action Space: Discrete(7)\n",
            "Observation Keys: dict_keys(['image', 'direction', 'mission'])\n",
            "Observation Shape: (7, 7, 3)\n"
          ]
        }
      ],
      "source": [
        "# setup Environment\n",
        "env = gym.make(\"MiniGrid-Empty-8x8-v0\")\n",
        "\n",
        "obs, info = env.reset()\n",
        "# environment information\n",
        "print(\"Action Space:\", env.action_space)\n",
        "print(\"Observation Keys:\", obs.keys())\n",
        "print(\"Observation Shape:\", obs['image'].shape)"
      ]
    },
    {
      "cell_type": "markdown",
      "metadata": {
        "id": "MRBjJIyJhZJx"
      },
      "source": [
        "## **Implementing a Random Agent in MiniGrid**\n",
        "In this section, you will implement a random agent in the MiniGrid environment. This exercise will help you understand how the agent interacts with the environment by taking actions, receiving rewards, and updating the environment state.\n",
        "\n",
        "🎯 How to Get 5 Points?  \n",
        " 1️⃣ Successfully execute the following code.  \n",
        " 2️⃣ The random agent should move freely in the environment.  \n",
        " 3️⃣ The animation of the agent’s movement should be generated.  \n",
        " 4️⃣ The total accumulated reward should be displayed.  \n",
        " 5️⃣ If everything works correctly, congratulations! You earned 5 points! 🎉  \n"
      ]
    },
    {
      "cell_type": "code",
      "execution_count": 7,
      "metadata": {
        "colab": {
          "base_uri": "https://localhost:8080/",
          "height": 325
        },
        "id": "E3sgo1Ul9s8c",
        "outputId": "6653a611-abb5-46ae-e2b9-76cec851a714"
      },
      "outputs": [
        {
          "name": "stdout",
          "output_type": "stream",
          "text": [
            "Total Reward: 0.792578125\n"
          ]
        },
        {
          "data": {
            "image/gif": "[encoded data removed]",
            "text/plain": [
              "<IPython.core.display.Image object>"
            ]
          },
          "execution_count": 7,
          "metadata": {},
          "output_type": "execute_result"
        }
      ],
      "source": [
        "frames = []  # Stores frames for animation\n",
        "\n",
        "done = False\n",
        "total_reward = 0  # Tracks total accumulated reward\n",
        "\n",
        "while not done:\n",
        "    # TODO: Select an action randomly\n",
        "    # TODO: Take a step in the environment\n",
        "    # TODO: Update the total reward\n",
        "    action = np.random.randint(0, env.action_space.n)\n",
        "    obs, reward, done, _, _ = env.step(action)\n",
        "    total_reward += reward\n",
        "    frame = env.get_frame()\n",
        "    frames.append(frame)\n",
        "\n",
        "print(\"Total Reward:\", total_reward)\n",
        "\n",
        "# Do not modify the follwing code—any changes will result in a score of **0** for this cell.\n",
        "# gif_path = \"/content/minigrid.gif\"\n",
        "gif_path = \"minigrid.gif\"\n",
        "imageio.mimsave(gif_path, frames, fps=5)\n",
        "\n",
        "from IPython.display import Image\n",
        "Image(filename=gif_path)\n"
      ]
    },
    {
      "cell_type": "markdown",
      "metadata": {
        "id": "7OlEOKf9iRA5"
      },
      "source": [
        "Simply execute this cell to explore the available actions that an agent can take in the MiniGrid environment. Understanding these actions will help you better navigate and interact with the environment."
      ]
    },
    {
      "cell_type": "code",
      "execution_count": 6,
      "metadata": {
        "colab": {
          "base_uri": "https://localhost:8080/"
        },
        "id": "wqtdCQntEVtr",
        "outputId": "57745bed-85fc-42dd-9945-41413d07217e"
      },
      "outputs": [
        {
          "name": "stdout",
          "output_type": "stream",
          "text": [
            "Available Actions: {0: 'left', 1: 'right', 2: 'forward', 3: 'pickup', 4: 'drop', 5: 'toggle', 6: 'done'}\n"
          ]
        }
      ],
      "source": [
        "actions = {i: env.actions(i).name for i in range(env.action_space.n)}\n",
        "print(\"Available Actions:\", actions)"
      ]
    },
    {
      "cell_type": "markdown",
      "metadata": {
        "id": "dUSAdcxfirom"
      },
      "source": [
        "## **Implementing a Rule-Based Agent in MiniGrid**\n",
        "In this section, you will implement a **simple rule-based agent** to navigate the **MiniGrid environment**. This will help you gain a deeper understanding of **observations**, **actions**, and **rewards** before progressing to **reinforcement learning**.\n",
        "\n",
        "🎯 How to Get 5 Points?  \n",
        " 1️⃣ Successfully execute the following code.  \n",
        " 2️⃣ The rule-based agent should move based on rule in the environment.  \n",
        " 3️⃣ The animation of the agent’s movement should be generated.  \n",
        " 4️⃣ The total accumulated reward should be displayed.  \n",
        " 5️⃣ If everything works correctly, congratulations! You earned 5 points! 🎉  "
      ]
    },
    {
      "cell_type": "code",
      "execution_count": 8,
      "metadata": {
        "colab": {
          "base_uri": "https://localhost:8080/",
          "height": 290
        },
        "id": "6FkMA41jEYPj",
        "outputId": "0c7dab43-e1e3-4421-9c0d-95e3e9211060"
      },
      "outputs": [
        {
          "name": "stdout",
          "output_type": "stream",
          "text": [
            "Total Reward: 0.905078125\n"
          ]
        },
        {
          "data": {
            "image/gif": "[encoded data removed]",
            "text/plain": [
              "<IPython.core.display.Image object>"
            ]
          },
          "execution_count": 8,
          "metadata": {},
          "output_type": "execute_result"
        }
      ],
      "source": [
        "def rule_based_agent(obs):\n",
        "    \"\"\"\n",
        "    ✅ Simple Rule-Based Agent:\n",
        "    - **Reads the cell in front of the agent**\n",
        "    - **Turns if a wall is ahead**\n",
        "    - **Moves forward if the goal is ahead**\n",
        "    \"\"\"\n",
        "    goal_id, wall_id, agent_id = 8, 2, 1\n",
        "    # TODO: Retrieve the agent's current facing direction\n",
        "    direction = obs['direction']\n",
        "    # TODO: Find the agent's position within the observation grid\n",
        "    grid_size = obs['image'].shape[0]\n",
        "    agent_pos = [grid_size // 2, grid_size - 1, 0]\n",
        "\n",
        "    # TODO: Extract the agent's coordinates\n",
        "    cords = (grid_size // 2, grid_size - 1)\n",
        "\n",
        "    front_x, front_y = cords[0], cords[1] - 1\n",
        "\n",
        "    # TODO: Ensure `front_x, front_y` remains within valid grid boundaries\n",
        "    # Treat any out-of-bounds position as a wall\n",
        "    if obs['image'][front_x, front_y, 0] == wall_id:\n",
        "        wall_flag = True\n",
        "    else:\n",
        "        wall_flag = False\n",
        "\n",
        "    # # TODO: Implement decision-making logic\n",
        "    if wall_flag:\n",
        "        action = np.random.choice(env.action_space.n)\n",
        "    else:\n",
        "        action = 2\n",
        "    return action\n",
        "    # return np.random.choice(env.action_space.n)\n",
        "\n",
        "done = False\n",
        "total_reward = 0\n",
        "frames = []\n",
        "obs, info = env.reset()\n",
        "while not done:\n",
        "    action = rule_based_agent(obs)  # 🔥 Execute the rule-based policy\n",
        "    obs, reward, done, _, _ = env.step(action)\n",
        "    total_reward += reward\n",
        "    frame = env.get_frame()\n",
        "    frames.append(frame)\n",
        "\n",
        "# Do not modify the follwing code—any changes will result in a score of **0** for this cell.\n",
        "print(\"Total Reward:\", total_reward)\n",
        "\n",
        "# gif_path = \"/content/minigrid.gif\"\n",
        "gif_path = \"minigrid.gif\"\n",
        "imageio.mimsave(gif_path, frames, fps=5)\n",
        "\n",
        "Image(filename=gif_path)\n"
      ]
    },
    {
      "cell_type": "markdown",
      "metadata": {
        "id": "vBm02Hg7kQwD"
      },
      "source": [
        "# **Question 2: Reinforcement Learning with Tabular Methods**\n",
        "\n",
        "In this section, we will explore **reinforcement learning (RL)** by implementing tabular-based **value learning** and **policy learning** in MiniGrid environments.\n",
        "\n",
        "You will investigate two fundamental approaches in reinforcement learning:\n",
        "\n",
        "## **📌 Value-Based Learning (Q-Learning)**\n",
        "- Uses a **Q-table** to store action-value estimates for each state.\n",
        "- The agent **updates Q-values** based on rewards received from the environment.\n",
        "- Helps the agent **learn an optimal policy** by maximizing future rewards.\n",
        "\n",
        "## **📌 Policy-Based Learning**\n",
        "- Instead of learning a Q-table, it **learns a direct policy** (i.e., a mapping from states to actions).\n",
        "- Can be implemented using **tabular-based policy iteration**.\n",
        "- Helps understand how an agent can **directly optimize its behavior** without relying on Q-values.\n"
      ]
    },
    {
      "cell_type": "markdown",
      "metadata": {
        "id": "iGzq2Nm7cBhy"
      },
      "source": [
        "## **Value-Based Learning (Q-Learning)**  \n",
        "\n",
        "- Uses **Q-tables** to store action values for each state.  \n",
        "- Applies the **Bellman equation** to update Q-values.  \n",
        "- Implements **ε-greedy exploration** to balance exploration and exploitation.  \n",
        "\n",
        "\n",
        " 🎯 How to Get 10 Points?  \n",
        " 1️⃣ Successfully implement Q-learning to train an agent.  \n",
        " 2️⃣ The agent should learn to navigate the environment using **Q-tables**.(7 points)\n",
        "\n",
        " 3️⃣ The agent must reach the goal efficiently after training.  \n",
        " 4️⃣ An animation showing the trained agent reaching the goal should be generated.  (3 points)\n",
        "\n",
        " 5️⃣ If everything works correctly, congratulations! You earned 10 points! 🎉  \n"
      ]
    },
    {
      "cell_type": "code",
      "execution_count": 9,
      "metadata": {
        "id": "ylUyyfdwbmb9"
      },
      "outputs": [],
      "source": [
        "from tqdm import tqdm\n",
        "def tabular_q_learning(env_name=\"MiniGrid-Empty-8x8-v0\", episodes=5000, alpha=0.05, gamma=0.99,\n",
        "                       epsilon_start=1.0, epsilon_end=0.1, decay_rate=0.999):\n",
        "    \"\"\"\n",
        "    ✅ Implementing Tabular Q-Learning with Epsilon Decay\n",
        "    - Uses a **Q-table** to store action values for each state.\n",
        "    - Updates Q-values using the **Bellman equation**.\n",
        "    - Implements **ε-greedy exploration** for action selection.\n",
        "    \"\"\"\n",
        "    env = gym.make(env_name, max_episode_steps=10000)\n",
        "\n",
        "    # TODO: Initialize an empty Q-table to store state-action values.\n",
        "    q_table = {}\n",
        "    rewards_per_episode = []\n",
        "\n",
        "    # TODO: Initialize epsilon for the exploration-exploitation tradeoff.\n",
        "    epsilon = epsilon_start\n",
        "\n",
        "    def get_state(env):\n",
        "        \"\"\"✅ Extracts the state representation from the MiniGrid environment.\"\"\"\n",
        "        # TODO: Represent the state using the agent's position and direction.\n",
        "        state = (env.agent_pos[0], env.agent_pos[1], env.agent_dir)\n",
        "        return state\n",
        "\n",
        "    for episode in tqdm(range(episodes)):\n",
        "        # TODO: Reset the environment at the beginning of each episode.\n",
        "        obs, info = env.reset()\n",
        "        state = get_state(env)\n",
        "        done = False\n",
        "        total_reward = 0\n",
        "\n",
        "        while not done:\n",
        "            # TODO: Initialize the state in the Q-table if it is not already present.\n",
        "            if state not in q_table:\n",
        "                q_table[state] = np.zeros(env.action_space.n)\n",
        "\n",
        "            # TODO: Implement an ε-greedy policy for action selection.\n",
        "            if np.random.rand() < epsilon:\n",
        "                action = np.random.randint(env.action_space.n)  # Explore.\n",
        "            else:\n",
        "                action = np.argmax(q_table[state])\n",
        "            # action_dist = np.ones(env.action_space.n, dtype=float) * epsilon / (env.action_space.n - 1)\n",
        "            # action_dist[np.argmax(q_table[state])] = 1 - epsilon\n",
        "            # action = np.random.choice(env.action_space.n, p=action_dist)\n",
        "\n",
        "            # TODO: Execute the action and observe the next state and reward.\n",
        "            obs, reward, done, truncated, _ = env.step(action)\n",
        "            next_state = get_state(env)\n",
        "            total_reward += reward\n",
        "\n",
        "            # TODO: Initialize next_state in the Q-table if it is not already present.\n",
        "            if next_state not in q_table:\n",
        "                q_table[next_state] = np.zeros(env.action_space.n)\n",
        "\n",
        "\n",
        "            # TODO: Apply the Q-learning update rule (Bellman equation).\n",
        "            q_table[state][action] += alpha * (reward + gamma * np.max(q_table[next_state]) - q_table[state][action])\n",
        "\n",
        "            # TODO: Update the state to the next state.\n",
        "            state = next_state\n",
        "\n",
        "            if truncated:\n",
        "                break\n",
        "\n",
        "        rewards_per_episode.append(total_reward)\n",
        "\n",
        "        # TODO: Decay epsilon over time to gradually reduce exploration.\n",
        "        epsilon = max(epsilon_end, epsilon * decay_rate)\n",
        "\n",
        "        if (episode + 1) % 100 == 0:\n",
        "            avg_reward = np.mean(rewards_per_episode[-100:])\n",
        "            print(f\"Episode {episode + 1}/{episodes}, Avg Reward: {avg_reward:.4f}, Epsilon: {epsilon:.3f}\")\n",
        "\n",
        "    env.close()\n",
        "    return q_table, rewards_per_episode"
      ]
    },
    {
      "cell_type": "markdown",
      "metadata": {
        "id": "i3GaqgQHleIq"
      },
      "source": [
        "Train the agent in **MiniGrid-Empty-8x8**.  \n",
        "\n",
        "⚠️ **You can only adjust the episodes in this cell**—any others changes will result in a score of **0** for your training code above.\n"
      ]
    },
    {
      "cell_type": "code",
      "execution_count": 10,
      "metadata": {
        "colab": {
          "base_uri": "https://localhost:8080/",
          "height": 662
        },
        "id": "uGFYhJdulSwQ",
        "outputId": "3d7bc5cb-7bb9-4876-fd9a-e35c0fa09cd9"
      },
      "outputs": [
        {
          "name": "stderr",
          "output_type": "stream",
          "text": [
            " 11%|█         | 107/1000 [00:05<00:25, 34.43it/s]"
          ]
        },
        {
          "name": "stdout",
          "output_type": "stream",
          "text": [
            "Episode 100/1000, Avg Reward: 0.2420, Epsilon: 0.905\n"
          ]
        },
        {
          "name": "stderr",
          "output_type": "stream",
          "text": [
            " 22%|██▏       | 217/1000 [00:07<00:15, 51.72it/s]"
          ]
        },
        {
          "name": "stdout",
          "output_type": "stream",
          "text": [
            "Episode 200/1000, Avg Reward: 0.6016, Epsilon: 0.819\n"
          ]
        },
        {
          "name": "stderr",
          "output_type": "stream",
          "text": [
            " 34%|███▎      | 335/1000 [00:09<00:08, 82.15it/s]"
          ]
        },
        {
          "name": "stdout",
          "output_type": "stream",
          "text": [
            "Episode 300/1000, Avg Reward: 0.7684, Epsilon: 0.741\n"
          ]
        },
        {
          "name": "stderr",
          "output_type": "stream",
          "text": [
            " 43%|████▎     | 432/1000 [00:10<00:05, 103.92it/s]"
          ]
        },
        {
          "name": "stdout",
          "output_type": "stream",
          "text": [
            "Episode 400/1000, Avg Reward: 0.8402, Epsilon: 0.670\n"
          ]
        },
        {
          "name": "stderr",
          "output_type": "stream",
          "text": [
            " 54%|█████▍    | 541/1000 [00:11<00:03, 130.08it/s]"
          ]
        },
        {
          "name": "stdout",
          "output_type": "stream",
          "text": [
            "Episode 500/1000, Avg Reward: 0.8700, Epsilon: 0.606\n"
          ]
        },
        {
          "name": "stderr",
          "output_type": "stream",
          "text": [
            " 63%|██████▎   | 630/1000 [00:11<00:02, 143.50it/s]"
          ]
        },
        {
          "name": "stdout",
          "output_type": "stream",
          "text": [
            "Episode 600/1000, Avg Reward: 0.8949, Epsilon: 0.549\n"
          ]
        },
        {
          "name": "stderr",
          "output_type": "stream",
          "text": [
            " 74%|███████▍  | 743/1000 [00:12<00:01, 181.18it/s]"
          ]
        },
        {
          "name": "stdout",
          "output_type": "stream",
          "text": [
            "Episode 700/1000, Avg Reward: 0.9096, Epsilon: 0.496\n"
          ]
        },
        {
          "name": "stderr",
          "output_type": "stream",
          "text": [
            " 84%|████████▍ | 845/1000 [00:13<00:00, 199.03it/s]"
          ]
        },
        {
          "name": "stdout",
          "output_type": "stream",
          "text": [
            "Episode 800/1000, Avg Reward: 0.9209, Epsilon: 0.449\n"
          ]
        },
        {
          "name": "stderr",
          "output_type": "stream",
          "text": [
            " 95%|█████████▌| 952/1000 [00:13<00:00, 208.89it/s]"
          ]
        },
        {
          "name": "stdout",
          "output_type": "stream",
          "text": [
            "Episode 900/1000, Avg Reward: 0.9267, Epsilon: 0.406\n"
          ]
        },
        {
          "name": "stderr",
          "output_type": "stream",
          "text": [
            "100%|██████████| 1000/1000 [00:13<00:00, 72.52it/s]\n"
          ]
        },
        {
          "name": "stdout",
          "output_type": "stream",
          "text": [
            "Episode 1000/1000, Avg Reward: 0.9290, Epsilon: 0.368\n"
          ]
        },
        {
          "data": {
            "image/png": "[encoded data removed]",
            "text/plain": [
              "<Figure size 640x480 with 1 Axes>"
            ]
          },
          "metadata": {},
          "output_type": "display_data"
        }
      ],
      "source": [
        "q_table, rewards = tabular_q_learning(\"MiniGrid-Empty-8x8-v0\", episodes=1000)\n",
        "\n",
        "plt.plot(rewards)\n",
        "plt.xlabel(\"Episodes\")\n",
        "plt.ylabel(\"Total Reward\")\n",
        "plt.title(\"Q-learning Training Progress\")\n",
        "plt.show()"
      ]
    },
    {
      "cell_type": "markdown",
      "metadata": {
        "id": "hcGeUhF6l1cN"
      },
      "source": [
        "After training the agent using **Q-learning**, we will now evaluate its performance in the environment.  \n",
        "\n",
        "This function runs a **single test episode** using the learned **Q-table** and records the agent's movement as a **GIF**.\n"
      ]
    },
    {
      "cell_type": "code",
      "execution_count": 12,
      "metadata": {
        "colab": {
          "base_uri": "https://localhost:8080/",
          "height": 290
        },
        "id": "BJehGpqagkKK",
        "outputId": "82b51734-afdc-439a-9e2e-c5e0fd9beafe"
      },
      "outputs": [
        {
          "name": "stdout",
          "output_type": "stream",
          "text": [
            "Total Reward: 0.961328125\n"
          ]
        },
        {
          "data": {
            "image/gif": "[encoded data removed]",
            "text/plain": [
              "<IPython.core.display.Image object>"
            ]
          },
          "execution_count": 12,
          "metadata": {},
          "output_type": "execute_result"
        }
      ],
      "source": [
        "def run_learned_value(env_name, q_table, max_steps=100, gif_path=\"minigrid_q_learning.gif\"): # gif_path=\"/content/minigrid_q_learning.gif\"):\n",
        "    \"\"\"\n",
        "    ✅ Runs a learned Q-table policy in a MiniGrid environment and saves an animation as a GIF.\n",
        "    :param env_name: (str) Gym environment name.\n",
        "    :param q_table: (dict) Trained Q-table.\n",
        "    :param max_steps: (int) Maximum number of steps in the episode.\n",
        "    :param gif_path: (str) Path to save the generated GIF.\n",
        "    \"\"\"\n",
        "    env = gym.make(env_name, render_mode=\"rgb_array\")\n",
        "    obs, _ = env.reset()\n",
        "    # TODO: Retrieve the initial state (agent's position and direction).\n",
        "    state = (env.agent_pos[0], env.agent_pos[1], env.agent_dir)\n",
        "    frames = []\n",
        "    total_reward = 0  # Tracks the total accumulated reward.\n",
        "\n",
        "    for _ in range(max_steps):\n",
        "        frames.append(env.get_frame())\n",
        "        # print(\"here\")\n",
        "        # TODO: Select an action based on the learned Q-table.\n",
        "        action = np.argmax(q_table[state])\n",
        "        # print(action)\n",
        "        # Execute the chosen action and observe the outcome.\n",
        "        obs, reward, done, truncated, _ = env.step(action)\n",
        "        total_reward += reward  # Update the total reward.\n",
        "        # TODO: Update the agent's state.\n",
        "        if env_name.find(\"MiniGrid-Empty\") != -1:\n",
        "            state = (env.agent_pos[0], env.agent_pos[1], env.agent_dir)\n",
        "        elif env_name.find(\"MiniGrid-DoorKey\") != -1:\n",
        "            state = (tuple(env.agent_pos), env.agent_dir, env.carrying, door_open)\n",
        "\n",
        "        if done:\n",
        "            break\n",
        "    frames.append(env.get_frame())\n",
        "    env.close()\n",
        "\n",
        "# Do not modify the follwing code—any changes will result in a score of **0** for this cell and also your training code above.\n",
        "    # Save the recorded frames as a GIF.\n",
        "    imageio.mimsave(gif_path, frames, fps=5)\n",
        "    print(f\"Total Reward: {total_reward}\")\n",
        "\n",
        "    return Image(filename=gif_path)\n",
        "\n",
        "# ✅ Run the trained agent using the learned value-based policy.\n",
        "run_learned_value(\"MiniGrid-Empty-8x8-v0\", q_table)"
      ]
    },
    {
      "cell_type": "markdown",
      "metadata": {
        "id": "mOBlapb5nb_Z"
      },
      "source": [
        "## **Policy-Based Learning**  \n",
        "- Uses a **policy table** to store action probabilities for each state instead of Q-values.  \n",
        "- Applies **policy gradient methods** to directly optimize the policy, rather than using the Bellman equation.  \n",
        "- Uses **softmax action selection**, meaning actions are chosen probabilistically instead of always picking the one with the highest value.  \n",
        "\n",
        "### **🔑 Key Differences from Value-Based Learning (Q-Learning)**  \n",
        "| Feature            | Value-Based Learning (Q-Learning) | Policy-Based Learning (Policy Gradient) |\n",
        "|--------------------|---------------------------------|----------------------------------------|\n",
        "| **Learning Target** | Learns **Q-values** (action values) | Learns **action probabilities** (policy function) |\n",
        "| **Action Selection** | Uses **ε-greedy** to choose the best Q-value | Uses **softmax** or a stochastic policy to sample actions |\n",
        "| **Update Method** | Updates Q-values using the **Bellman equation** | Updates the policy directly using **policy gradients** |\n",
        "| **Exploration Strategy** | Requires **ε-decay** to balance exploration | Exploration is **inherent** in the policy |\n",
        "| **Best For** | **Discrete action spaces** (small state spaces) | **Continuous or large action spaces** |\n",
        "\n",
        "## **📌 Summary**  \n",
        "- **Q-Learning** learns **what the best action is** by estimating values for each action.  \n",
        "- **Policy Learning** learns **how to act directly**, optimizing the probability of taking actions.  \n",
        "- **Policy Learning is better for complex, continuous environments**, while **Value Learning is more efficient in simple, discrete environments**. 🚀\n",
        "\n",
        "\n",
        " 🎯 How to Get 5 Points?  \n",
        " 1️⃣ Successfully implement policy learning to train an agent.  \n",
        " 2️⃣ The agent should learn to navigate the environment using **policy-tables**.  \n",
        " 3️⃣ The agent must reach the goal efficiently after training. (4 points)\n",
        " 4️⃣ An animation showing the trained agent reaching the goal should be generated. (1 points)  \n",
        " 5️⃣ If everything works correctly, congratulations! You earned 5 points! 🎉  "
      ]
    },
    {
      "cell_type": "code",
      "execution_count": 13,
      "metadata": {
        "id": "QmZlbFe4np8i"
      },
      "outputs": [],
      "source": [
        "import math\n",
        "\n",
        "def tabular_policy_learning(env_name=\"MiniGrid-Empty-8x8-v0\", episodes=5000, alpha=0.05, gamma=0.99):\n",
        "    \"\"\"\n",
        "    ✅ Implementing Tabular Policy Learning using Softmax Policy\n",
        "    - Uses a **policy table** to store action probabilities for each state.\n",
        "    - Updates policy using a **policy gradient** (REINFORCE-like update).\n",
        "    - Uses **softmax action selection** for exploration.\n",
        "    \"\"\"\n",
        "    env = gym.make(env_name, max_episode_steps=10000)\n",
        "    # TODO: Initialize an empty policy table to store action probabilities.\n",
        "    policy_table = {}\n",
        "    rewards_per_episode = []\n",
        "\n",
        "    def get_state(env):\n",
        "        \"\"\"✅ Extracts the state representation from the MiniGrid environment.\"\"\"\n",
        "        agent_pos = tuple(env.agent_pos)\n",
        "        direction = env.agent_dir\n",
        "        return (agent_pos, direction)\n",
        "\n",
        "    def softmax(x):\n",
        "        \"\"\"✅ Compute softmax values for an array.\"\"\"\n",
        "        exp_x = np.exp(x - np.max(x))  # Numeric stability\n",
        "        return exp_x / exp_x.sum()\n",
        "\n",
        "    for episode in tqdm(range(episodes)):\n",
        "        obs, _ = env.reset()\n",
        "        state = get_state(env)\n",
        "        done = False\n",
        "        total_reward = 0\n",
        "        trajectory = []  # Store (state, action, reward) for policy update\n",
        "\n",
        "        while not done:\n",
        "            # TODO: Initialize the state in the policy table if it is not already present.\n",
        "            if state not in policy_table:\n",
        "                policy_table[state] = np.random.uniform(-0.01, 0.01, env.action_space.n)\n",
        "\n",
        "            # TODO: Select action using the softmax policy.\n",
        "            action_dist = softmax(policy_table[state])\n",
        "            # print(action_dist)\n",
        "            action = np.random.choice(env.action_space.n, p=action_dist)\n",
        "            # print(action_probs)\n",
        "\n",
        "            # TODO: Execute the action and observe the next state and reward.\n",
        "            obs, reward, done, truncated, _ = env.step(action)\n",
        "            next_state = get_state(env)\n",
        "            total_reward += reward\n",
        "\n",
        "            # Store transition for policy update\n",
        "            trajectory.append((state, action, reward))\n",
        "\n",
        "            # Update state\n",
        "            state = next_state\n",
        "            if truncated:\n",
        "                break\n",
        "\n",
        "        rewards_per_episode.append(total_reward)\n",
        "\n",
        "        # ✅ **Policy Update (REINFORCE-like)**\n",
        "        G = 0  # Return (discounted sum of rewards)\n",
        "        for t in reversed(range(len(trajectory))):\n",
        "            state, action, reward = trajectory[t]\n",
        "            G = reward + gamma * G  # Discounted reward\n",
        "\n",
        "            # TODO: Update policy table using policy gradient\n",
        "            action_probs = softmax(policy_table[state])\n",
        "            # print(\"before\", policy_table[state])\n",
        "            for a in range(env.action_space.n):\n",
        "                if a == action:\n",
        "                    policy_table[state][a] += alpha * G * (1 - action_probs[a])\n",
        "                else:\n",
        "                    policy_table[state][a] -= alpha * G * action_probs[a]\n",
        "            # print(\"after\", policy_table[state])\n",
        "\n",
        "        if (episode + 1) % 100 == 0:\n",
        "            avg_reward = np.mean(rewards_per_episode[-100:])\n",
        "            print(f\"Episode {episode + 1}/{episodes}, Avg Reward: {avg_reward:.4f}\")\n",
        "\n",
        "    env.close()\n",
        "    return policy_table, rewards_per_episode\n"
      ]
    },
    {
      "cell_type": "markdown",
      "metadata": {
        "id": "_N2ObEylF4IH"
      },
      "source": [
        "Train the agent in **MiniGrid-Empty-8x8** using **policy learning**.  \n",
        "\n",
        "⚠️ **You can only adjust the episodes in this cell**—any others changes will result in a score of **0** for your training code above."
      ]
    },
    {
      "cell_type": "code",
      "execution_count": 14,
      "metadata": {
        "colab": {
          "base_uri": "https://localhost:8080/",
          "height": 1000
        },
        "id": "kfrtqRyaFyiC",
        "outputId": "e4374f99-5d40-484d-e216-a4a6704de26e"
      },
      "outputs": [
        {
          "name": "stderr",
          "output_type": "stream",
          "text": [
            "  3%|▎         | 104/3000 [00:07<03:33, 13.55it/s]"
          ]
        },
        {
          "name": "stdout",
          "output_type": "stream",
          "text": [
            "Episode 100/3000, Avg Reward: 0.1077\n"
          ]
        },
        {
          "name": "stderr",
          "output_type": "stream",
          "text": [
            "  7%|▋         | 204/3000 [00:14<03:14, 14.39it/s]"
          ]
        },
        {
          "name": "stdout",
          "output_type": "stream",
          "text": [
            "Episode 200/3000, Avg Reward: 0.1086\n"
          ]
        },
        {
          "name": "stderr",
          "output_type": "stream",
          "text": [
            " 10%|█         | 306/3000 [00:21<02:47, 16.13it/s]"
          ]
        },
        {
          "name": "stdout",
          "output_type": "stream",
          "text": [
            "Episode 300/3000, Avg Reward: 0.1426\n"
          ]
        },
        {
          "name": "stderr",
          "output_type": "stream",
          "text": [
            " 14%|█▎        | 405/3000 [00:27<02:47, 15.49it/s]"
          ]
        },
        {
          "name": "stdout",
          "output_type": "stream",
          "text": [
            "Episode 400/3000, Avg Reward: 0.1755\n"
          ]
        },
        {
          "name": "stderr",
          "output_type": "stream",
          "text": [
            " 17%|█▋        | 507/3000 [00:33<02:12, 18.85it/s]"
          ]
        },
        {
          "name": "stdout",
          "output_type": "stream",
          "text": [
            "Episode 500/3000, Avg Reward: 0.2531\n"
          ]
        },
        {
          "name": "stderr",
          "output_type": "stream",
          "text": [
            " 20%|██        | 606/3000 [00:39<02:01, 19.69it/s]"
          ]
        },
        {
          "name": "stdout",
          "output_type": "stream",
          "text": [
            "Episode 600/3000, Avg Reward: 0.2837\n"
          ]
        },
        {
          "name": "stderr",
          "output_type": "stream",
          "text": [
            " 24%|██▎       | 706/3000 [00:44<01:25, 26.72it/s]"
          ]
        },
        {
          "name": "stdout",
          "output_type": "stream",
          "text": [
            "Episode 700/3000, Avg Reward: 0.4139\n"
          ]
        },
        {
          "name": "stderr",
          "output_type": "stream",
          "text": [
            " 27%|██▋       | 811/3000 [00:47<01:04, 34.05it/s]"
          ]
        },
        {
          "name": "stdout",
          "output_type": "stream",
          "text": [
            "Episode 800/3000, Avg Reward: 0.5433\n"
          ]
        },
        {
          "name": "stderr",
          "output_type": "stream",
          "text": [
            " 30%|███       | 908/3000 [00:51<01:04, 32.45it/s]"
          ]
        },
        {
          "name": "stdout",
          "output_type": "stream",
          "text": [
            "Episode 900/3000, Avg Reward: 0.5954\n"
          ]
        },
        {
          "name": "stderr",
          "output_type": "stream",
          "text": [
            " 34%|███▎      | 1010/3000 [00:53<00:44, 44.29it/s]"
          ]
        },
        {
          "name": "stdout",
          "output_type": "stream",
          "text": [
            "Episode 1000/3000, Avg Reward: 0.6789\n"
          ]
        },
        {
          "name": "stderr",
          "output_type": "stream",
          "text": [
            " 37%|███▋      | 1112/3000 [00:55<00:41, 45.98it/s]"
          ]
        },
        {
          "name": "stdout",
          "output_type": "stream",
          "text": [
            "Episode 1100/3000, Avg Reward: 0.7578\n"
          ]
        },
        {
          "name": "stderr",
          "output_type": "stream",
          "text": [
            " 41%|████      | 1222/3000 [00:57<00:20, 87.78it/s]"
          ]
        },
        {
          "name": "stdout",
          "output_type": "stream",
          "text": [
            "Episode 1200/3000, Avg Reward: 0.8000\n"
          ]
        },
        {
          "name": "stderr",
          "output_type": "stream",
          "text": [
            " 44%|████▍     | 1316/3000 [00:58<00:20, 80.52it/s]"
          ]
        },
        {
          "name": "stdout",
          "output_type": "stream",
          "text": [
            "Episode 1300/3000, Avg Reward: 0.8459\n"
          ]
        },
        {
          "name": "stderr",
          "output_type": "stream",
          "text": [
            " 48%|████▊     | 1439/3000 [01:00<00:17, 88.71it/s]"
          ]
        },
        {
          "name": "stdout",
          "output_type": "stream",
          "text": [
            "Episode 1400/3000, Avg Reward: 0.8419\n"
          ]
        },
        {
          "name": "stderr",
          "output_type": "stream",
          "text": [
            " 51%|█████     | 1522/3000 [01:01<00:19, 77.78it/s]"
          ]
        },
        {
          "name": "stdout",
          "output_type": "stream",
          "text": [
            "Episode 1500/3000, Avg Reward: 0.8307\n"
          ]
        },
        {
          "name": "stderr",
          "output_type": "stream",
          "text": [
            " 54%|█████▍    | 1617/3000 [01:02<00:15, 90.04it/s]"
          ]
        },
        {
          "name": "stdout",
          "output_type": "stream",
          "text": [
            "Episode 1600/3000, Avg Reward: 0.8725\n"
          ]
        },
        {
          "name": "stderr",
          "output_type": "stream",
          "text": [
            " 59%|█████▉    | 1769/3000 [01:03<00:09, 134.47it/s]"
          ]
        },
        {
          "name": "stdout",
          "output_type": "stream",
          "text": [
            "Episode 1700/3000, Avg Reward: 0.8867\n"
          ]
        },
        {
          "name": "stderr",
          "output_type": "stream",
          "text": [
            " 61%|██████▏   | 1844/3000 [01:04<00:09, 124.24it/s]"
          ]
        },
        {
          "name": "stdout",
          "output_type": "stream",
          "text": [
            "Episode 1800/3000, Avg Reward: 0.9122\n"
          ]
        },
        {
          "name": "stderr",
          "output_type": "stream",
          "text": [
            " 64%|██████▍   | 1932/3000 [01:04<00:08, 126.74it/s]"
          ]
        },
        {
          "name": "stdout",
          "output_type": "stream",
          "text": [
            "Episode 1900/3000, Avg Reward: 0.8969\n"
          ]
        },
        {
          "name": "stderr",
          "output_type": "stream",
          "text": [
            " 67%|██████▋   | 2024/3000 [01:05<00:08, 116.79it/s]"
          ]
        },
        {
          "name": "stdout",
          "output_type": "stream",
          "text": [
            "Episode 2000/3000, Avg Reward: 0.8953\n"
          ]
        },
        {
          "name": "stderr",
          "output_type": "stream",
          "text": [
            " 71%|███████   | 2126/3000 [01:06<00:07, 112.38it/s]"
          ]
        },
        {
          "name": "stdout",
          "output_type": "stream",
          "text": [
            "Episode 2100/3000, Avg Reward: 0.8920\n"
          ]
        },
        {
          "name": "stderr",
          "output_type": "stream",
          "text": [
            " 74%|███████▍  | 2225/3000 [01:07<00:07, 106.24it/s]"
          ]
        },
        {
          "name": "stdout",
          "output_type": "stream",
          "text": [
            "Episode 2200/3000, Avg Reward: 0.8919\n"
          ]
        },
        {
          "name": "stderr",
          "output_type": "stream",
          "text": [
            " 77%|███████▋  | 2314/3000 [01:08<00:05, 136.26it/s]"
          ]
        },
        {
          "name": "stdout",
          "output_type": "stream",
          "text": [
            "Episode 2300/3000, Avg Reward: 0.9066\n"
          ]
        },
        {
          "name": "stderr",
          "output_type": "stream",
          "text": [
            " 81%|████████▏ | 2444/3000 [01:08<00:03, 157.52it/s]"
          ]
        },
        {
          "name": "stdout",
          "output_type": "stream",
          "text": [
            "Episode 2400/3000, Avg Reward: 0.9177\n"
          ]
        },
        {
          "name": "stderr",
          "output_type": "stream",
          "text": [
            " 85%|████████▍ | 2540/3000 [01:09<00:03, 142.50it/s]"
          ]
        },
        {
          "name": "stdout",
          "output_type": "stream",
          "text": [
            "Episode 2500/3000, Avg Reward: 0.9185\n"
          ]
        },
        {
          "name": "stderr",
          "output_type": "stream",
          "text": [
            " 88%|████████▊ | 2645/3000 [01:10<00:02, 123.07it/s]"
          ]
        },
        {
          "name": "stdout",
          "output_type": "stream",
          "text": [
            "Episode 2600/3000, Avg Reward: 0.9233\n"
          ]
        },
        {
          "name": "stderr",
          "output_type": "stream",
          "text": [
            " 91%|█████████▏| 2741/3000 [01:11<00:01, 148.19it/s]"
          ]
        },
        {
          "name": "stdout",
          "output_type": "stream",
          "text": [
            "Episode 2700/3000, Avg Reward: 0.9095\n"
          ]
        },
        {
          "name": "stderr",
          "output_type": "stream",
          "text": [
            " 95%|█████████▍| 2838/3000 [01:11<00:01, 161.79it/s]"
          ]
        },
        {
          "name": "stdout",
          "output_type": "stream",
          "text": [
            "Episode 2800/3000, Avg Reward: 0.9179\n"
          ]
        },
        {
          "name": "stderr",
          "output_type": "stream",
          "text": [
            " 98%|█████████▊| 2948/3000 [01:12<00:00, 159.63it/s]"
          ]
        },
        {
          "name": "stdout",
          "output_type": "stream",
          "text": [
            "Episode 2900/3000, Avg Reward: 0.9211\n"
          ]
        },
        {
          "name": "stderr",
          "output_type": "stream",
          "text": [
            "100%|██████████| 3000/3000 [01:12<00:00, 41.30it/s] \n"
          ]
        },
        {
          "name": "stdout",
          "output_type": "stream",
          "text": [
            "Episode 3000/3000, Avg Reward: 0.9311\n"
          ]
        },
        {
          "data": {
            "image/png": "[encoded data removed]",
            "text/plain": [
              "<Figure size 640x480 with 1 Axes>"
            ]
          },
          "metadata": {},
          "output_type": "display_data"
        }
      ],
      "source": [
        "# ✅ Train the agent using policy-based learning.\n",
        "policy_table, rewards = tabular_policy_learning(\"MiniGrid-Empty-8x8-v0\", episodes=3000)\n",
        "\n",
        "plt.plot(rewards)\n",
        "plt.xlabel(\"Episodes\")\n",
        "plt.ylabel(\"Total Reward\")\n",
        "plt.title(\"Tabular Policy Learning Training Progress\")\n",
        "plt.show()"
      ]
    },
    {
      "cell_type": "markdown",
      "metadata": {
        "id": "1uytqkjyoFlo"
      },
      "source": [
        "Now that you have trained your agent using **tabular policy learning**, let's visualize its performance in the **MiniGrid environment**.  \n",
        "\n",
        "This function runs a **test episode** using the learned **policy table (π-table)** and records the agent's movement as a **GIF**.\n"
      ]
    },
    {
      "cell_type": "code",
      "execution_count": 15,
      "metadata": {
        "colab": {
          "base_uri": "https://localhost:8080/",
          "height": 290
        },
        "id": "Xue4n_SfoIpS",
        "outputId": "89aada2a-a35f-4206-c572-032b1305bb7b"
      },
      "outputs": [
        {
          "name": "stdout",
          "output_type": "stream",
          "text": [
            "Total Reward: 0.95078125\n"
          ]
        },
        {
          "data": {
            "image/gif": "[encoded data removed]",
            "text/plain": [
              "<IPython.core.display.Image object>"
            ]
          },
          "execution_count": 15,
          "metadata": {},
          "output_type": "execute_result"
        }
      ],
      "source": [
        "def run_learned_policy(env_name, policy_table, max_steps=100, gif_path=\"minigrid_q_learning.gif\"): #gif_path=\"/content/minigrid_policy_learning.gif\"):\n",
        "    \"\"\"\n",
        "    ✅ Runs a learned policy in a MiniGrid environment and saves an animation GIF.\n",
        "    \"\"\"\n",
        "    env = gym.make(env_name, render_mode=\"rgb_array\")\n",
        "    obs, _ = env.reset()\n",
        "    state = (tuple(env.agent_pos), env.agent_dir)\n",
        "\n",
        "    frames = []\n",
        "    total_reward = 0  # Track total accumulated reward\n",
        "\n",
        "    for _ in range(max_steps):\n",
        "        frames.append(env.get_frame())\n",
        "\n",
        "        # TODO: Choose an action using the learned policy table\n",
        "        exp_x = np.exp(policy_table[state] - np.max(policy_table[state]))\n",
        "        action_probs = exp_x / exp_x.sum()\n",
        "        action = np.random.choice(env.action_space.n, p=action_probs)\n",
        "\n",
        "\n",
        "        obs, reward, done, truncated, _ = env.step(action)\n",
        "        total_reward += reward  # Update total reward\n",
        "        state = (tuple(env.agent_pos), env.agent_dir)\n",
        "\n",
        "        if done:\n",
        "            break\n",
        "\n",
        "    frames.append(env.get_frame())\n",
        "    env.close()\n",
        "\n",
        "# Do not modify the follwing code—any changes will result in a score of **0** for this cell and also your training code above.\n",
        "    imageio.mimsave(gif_path, frames, fps=5)\n",
        "    print(f\"Total Reward: {total_reward}\")\n",
        "\n",
        "\n",
        "    return Image(filename=gif_path)\n",
        "\n",
        "# ✅ Run the trained policy\n",
        "run_learned_policy(\"MiniGrid-Empty-8x8-v0\", policy_table)\n"
      ]
    },
    {
      "cell_type": "markdown",
      "metadata": {
        "id": "hCHrUFjgtQ8i"
      },
      "source": [
        "In this section, you will train an agent using **Q-learning** in the **MiniGrid-DoorKey-8x8-v0** environment.  \n",
        "\n",
        "However, you will likely find that the agent **fails to learn efficiently** in this more complex environment.  \n",
        "\n",
        "You can comment out the training code to avoid retraining the agent every time you run this notebook.\n"
      ]
    },
    {
      "cell_type": "code",
      "execution_count": 14,
      "metadata": {
        "id": "k3K5iSBvbnZ-"
      },
      "outputs": [],
      "source": [
        "# q_table, rewards = tabular_q_learning(\"MiniGrid-DoorKey-8x8-v0\", episodes=10000, epsilon_start=1.0, epsilon_end=0.1, decay_rate=0.9995)"
      ]
    },
    {
      "cell_type": "markdown",
      "metadata": {
        "id": "d1vgd9fmteO-"
      },
      "source": [
        "Now that we have trained an agent using **Q-learning** on **MiniGrid-DoorKey-8x8-v0**, let's evaluate its performance.\n",
        "\n",
        "You can also comment out this cell."
      ]
    },
    {
      "cell_type": "code",
      "execution_count": 15,
      "metadata": {
        "id": "tBncaPMWbpSm"
      },
      "outputs": [],
      "source": [
        "# ✅ Run the trained value once\n",
        "# run_learned_value(\"MiniGrid-DoorKey-8x8-v0\", q_table)\n"
      ]
    },
    {
      "cell_type": "markdown",
      "metadata": {
        "id": "jjJtk1B2QcZt"
      },
      "source": [
        "## **Reward Shaping**  \n",
        "\n",
        "If the agent only receives a reward upon reaching the goal, how can it learn that **picking up the key** and **opening the door** are necessary steps?  \n",
        "\n",
        "This is where **Reward Shaping** comes into play.  \n",
        "\n",
        "### **📌 What is Reward Shaping?**  \n",
        "Reward shaping is a technique used in **reinforcement learning (RL)** to provide additional rewards that help guide the agent toward desirable behaviors. Instead of giving a reward only when the agent completes the task, intermediate rewards are introduced to **reinforce progress** toward the goal.  \n",
        "\n",
        "### **🛠 Why Use Reward Shaping?**  \n",
        "- **Speeds up learning**: Helps the agent learn useful behaviors more quickly.  \n",
        "- **Encourages exploration**: Provides incentives for discovering key steps in complex environments.  \n",
        "- **Reduces sparse reward problems**: Addresses situations where rewards are given only at the end of an episode, making learning difficult.  \n",
        "\n",
        "### **🎯 Example: Reward Shaping in MiniGrid-DoorKey**  \n",
        "In **MiniGrid-DoorKey-8x8-v0**, the agent must:  \n",
        "1. **Find and pick up the key**  \n",
        "2. **Navigate to the locked door**  \n",
        "3. **Unlock and pass through the door**  \n",
        "4. **Reach the goal to receive the final reward**  \n",
        "\n",
        "Without reward shaping, the agent may struggle to associate picking up the key with reaching the goal.\n",
        "\n",
        "### **🚀 Key Takeaway**  \n",
        "Reward shaping **bridges the gap between sparse rewards and effective learning**. It guides the agent by providing structured feedback, helping it navigate complex tasks more efficiently.\n",
        "\n",
        "🎯 How to Get 15 Points?  \n",
        " 1️⃣ Successfully implement reward-shaping to train an agent.  \n",
        " 2️⃣ The agent should learn to navigate the environment using **Q-tables**.\n",
        "\n",
        " 3️⃣ The agent must reach the goal efficiently after training.  \n",
        " 4️⃣ An animation showing the trained agent reaching the goal should be generated.  (15 points)\n",
        "\n",
        " 5️⃣ If everything works correctly, congratulations! You earned 10 points! 🎉  \n"
      ]
    },
    {
      "cell_type": "code",
      "execution_count": 144,
      "metadata": {
        "id": "fXMefc2kwg9w"
      },
      "outputs": [],
      "source": [
        "def run_learned_value(env_name, q_table, max_steps=100, gif_path=\"minigrid_q_learning.gif\"): # gif_path=\"/content/minigrid_q_learning.gif\"):\n",
        "    \"\"\"\n",
        "    ✅ Runs a learned Q-table policy in a MiniGrid environment and saves an animation as a GIF.\n",
        "    :param env_name: (str) Gym environment name.\n",
        "    :param q_table: (dict) Trained Q-table.\n",
        "    :param max_steps: (int) Maximum number of steps in the episode.\n",
        "    :param gif_path: (str) Path to save the generated GIF.\n",
        "    \"\"\"\n",
        "    def get_state(env, obs, prev_door_open):\n",
        "        \"\"\"✅ Extract the agent's state (position, direction, key possession, and door status).\"\"\"\n",
        "        # TODO: Represent the state using agent position, direction, key possession, and door status.\n",
        "        key_status = True if (env.carrying is not None) and (env.carrying.type == \"key\") else False\n",
        "\n",
        "        if prev_door_open == 1:\n",
        "            return (tuple(env.agent_pos), env.agent_dir, key_status, (0, 0), prev_door_open, (0, 0))\n",
        "\n",
        "        for i in range(env.grid.width):\n",
        "            for j in range(env.grid.height):\n",
        "                obj = env.grid.get(i, j)\n",
        "                if obj is not None and obj.type == \"door\":  # Find door\n",
        "                    door_distance = (i - env.agent_pos[0], j - env.agent_pos[1])\n",
        "                    if obj.is_open:\n",
        "                        door_status = 1\n",
        "                    elif obj.is_locked:\n",
        "                        door_status = 2\n",
        "                    else:\n",
        "                        door_status = 0\n",
        "\n",
        "        key_pos = np.argwhere(obs['image'][..., 0] == 5)  # Find key in observation grid\n",
        "        if len(key_pos) == 0 and not key_status:\n",
        "            key_distance = (10, 10)\n",
        "        elif key_status:\n",
        "            key_distance = (0, 0)\n",
        "        else:\n",
        "            key_distance = (key_pos[0][0], key_pos[0][1])\n",
        "\n",
        "        # door_pos = np.argwhere(obs['image'][..., 0] == 4)  # Find door in observation grid\n",
        "        # if len(door_pos) == 0:\n",
        "        #     door_distance = (10, 10)\n",
        "        #     door_status = obs['image'][0, 0, 2]\n",
        "        # else:\n",
        "        #     door_distance = (door_pos[0][0], door_pos[0][1])\n",
        "        #     door_status = obs['image'][door_pos[0][0], door_pos[0][1], 2]\n",
        "\n",
        "        return (tuple(env.agent_pos), env.agent_dir, key_status, key_distance, door_status, door_distance)\n",
        "\n",
        "\n",
        "\n",
        "    if env_name.find(\"MiniGrid-Empty\") != -1:\n",
        "        doorkey_env = False\n",
        "    elif env_name.find(\"MiniGrid-DoorKey\") != -1:\n",
        "        doorkey_env = True\n",
        "\n",
        "    env = gym.make(env_name, render_mode=\"rgb_array\")\n",
        "    obs, _ = env.reset()\n",
        "    # TODO: Retrieve the initial state (agent's position and direction).\n",
        "    state = (env.agent_pos[0], env.agent_pos[1], env.agent_dir) if not doorkey_env else get_state(env, obs, False)\n",
        "    frames = []\n",
        "    total_reward = 0  # Tracks the total accumulated reward.\n",
        "    if doorkey_env:\n",
        "        prev_has_key = state[2]\n",
        "        prev_door_open = state[4]\n",
        "\n",
        "    for _ in range(max_steps):\n",
        "        frames.append(env.get_frame())\n",
        "        # TODO: Select an action based on the learned Q-table.\n",
        "        if doorkey_env:\n",
        "            if np.random.rand() < 0.1:\n",
        "                action = np.random.choice(env.action_space.n)\n",
        "            else:\n",
        "                try:\n",
        "                    action = np.argmax(q_table[state])\n",
        "                except:\n",
        "                    action = np.random.choice(env.action_space.n)\n",
        "        else:\n",
        "            action = np.argmax(q_table[state])\n",
        "        # Execute the chosen action and observe the outcome.\n",
        "        obs, reward, done, truncated, _ = env.step(action)\n",
        "        total_reward += reward  # Update the total reward.\n",
        "        # TODO: Update the agent's state.\n",
        "        if not doorkey_env:\n",
        "            state = (env.agent_pos[0], env.agent_pos[1], env.agent_dir)\n",
        "        else:\n",
        "            state = get_state(env, obs, prev_door_open)\n",
        "            prev_door_open = state[4]\n",
        "        if done:\n",
        "            break\n",
        "    frames.append(env.get_frame())\n",
        "    env.close()\n",
        "\n",
        "# Do not modify the follwing code—any changes will result in a score of **0** for this cell and also your training code above.\n",
        "    # Save the recorded frames as a GIF.\n",
        "    imageio.mimsave(gif_path, frames, fps=5)\n",
        "    print(f\"Total Reward: {total_reward}\")\n",
        "\n",
        "    return Image(filename=gif_path)\n",
        "\n",
        "# ✅ Run the trained agent using the learned value-based policy.\n",
        "# run_learned_value(\"MiniGrid-Empty-8x8-v0\", q_table)"
      ]
    },
    {
      "cell_type": "code",
      "execution_count": null,
      "metadata": {
        "id": "ebAmJz8bHwpx"
      },
      "outputs": [],
      "source": [
        "def tabular_q_learning_adjust(env_name=\"MiniGrid-DoorKey-5x5-v0\", episodes=10000, alpha=0.1, gamma=0.99,\n",
        "                              epsilon_start=1.0, epsilon_end=0.1, decay_rate=0.9995, reward_shaping=True,\n",
        "                              q_table=None, debug=False):\n",
        "    \"\"\"\n",
        "    ✅ Implement Tabular Q-learning with Reward Shaping\n",
        "    - Modify reward shaping to accelerate learning.\n",
        "    - Adjust epsilon decay to ensure sufficient exploration.\n",
        "    - Ensure the agent learns the full sequence: \"pick up key → open door → reach goal\".\n",
        "    \"\"\"\n",
        "    env = gym.make(env_name, max_episode_steps=15000)\n",
        "\n",
        "    if q_table is None:\n",
        "        q_table = {}\n",
        "\n",
        "    rewards_per_episode = []\n",
        "    epsilon = epsilon_start\n",
        "\n",
        "    def get_state(env, obs, prev_door_open):\n",
        "        \"\"\"✅ Extract the agent's state (position, direction, key possession, and door status).\"\"\"\n",
        "        # TODO: Represent the state using agent position, direction, key possession, and door status.\n",
        "        key_status = True if (env.carrying is not None) and (env.carrying.type == \"key\") else False\n",
        "\n",
        "        if prev_door_open == 1:\n",
        "            return (tuple(env.agent_pos), env.agent_dir, key_status, (0, 0), prev_door_open, (0, 0))\n",
        "\n",
        "        for i in range(env.grid.width):\n",
        "            for j in range(env.grid.height):\n",
        "                obj = env.grid.get(i, j)\n",
        "                if obj is not None and obj.type == \"door\":  # Find door\n",
        "                    door_distance = (i - env.agent_pos[0], j - env.agent_pos[1])\n",
        "                    if obj.is_open:\n",
        "                        door_status = 1\n",
        "                    elif obj.is_locked:\n",
        "                        door_status = 2\n",
        "                    else:\n",
        "                        door_status = 0\n",
        "\n",
        "        key_pos = np.argwhere(obs['image'][..., 0] == 5)  # Find key in observation grid\n",
        "        if len(key_pos) == 0 and not key_status:\n",
        "            key_distance = (10, 10)\n",
        "        elif key_status:\n",
        "            key_distance = (0, 0)\n",
        "        else:\n",
        "            key_distance = (key_pos[0][0], key_pos[0][1])\n",
        "\n",
        "        return (tuple(env.agent_pos), env.agent_dir, key_status, key_distance, door_status, door_distance)\n",
        "\n",
        "    pickup_rate = 0\n",
        "    door_open_rate = 0\n",
        "    success_rate = 0\n",
        "    for episode in tqdm(range(episodes)):\n",
        "        obs, _ = env.reset()\n",
        "        state = get_state(env, obs, False)  # Initially, the door is closed.\n",
        "        done = False\n",
        "        total_reward = 0\n",
        "        prev_has_key = state[2]\n",
        "        prev_door_open = state[4]\n",
        "        episode_step = 0\n",
        "        action_memory = {i: 0 for i in range(env.action_space.n)}\n",
        "        has_pick_up = False\n",
        "        timesteps = 0\n",
        "        while not done:\n",
        "            # TODO: Initialize the state in the Q-table if not already present.\n",
        "            if state not in q_table:\n",
        "                q_table[state] = np.zeros(env.action_space.n)\n",
        "\n",
        "            # TODO: Implement ε-greedy policy for action selection.\n",
        "            if np.random.rand() < epsilon:\n",
        "                action = np.random.choice(env.action_space.n)\n",
        "            else:\n",
        "                action = np.argmax(q_table[state])\n",
        "\n",
        "            if (episode + 1) % 100 == 0:\n",
        "                action_memory[action] += 1\n",
        "\n",
        "            # Execute the selected action.\n",
        "            # prev_carrying = env.carrying\n",
        "            obs, reward, done, truncated, _ = env.step(action)\n",
        "            next_state = get_state(env, obs, prev_door_open)\n",
        "            episode_step += 1\n",
        "            # ✅ TODO: Implement reward shaping.\n",
        "            if reward_shaping:\n",
        "\n",
        "                # Reward shaping for picking up the key\n",
        "                if not prev_has_key and next_state[2] and not has_pick_up:\n",
        "                    has_pick_up = 1\n",
        "                    key_reward = 0.3\n",
        "                elif prev_has_key and not next_state[2] and next_state[4] != 0:\n",
        "                    key_reward = -0.5\n",
        "                else:\n",
        "                    key_reward = -0.01\n",
        "\n",
        "                # Reward shaping for opening the door\n",
        "                if next_state[2]:\n",
        "                    \n",
        "                    if (prev_door_open == 2 and next_state[4] == 0) or (prev_door_open == 0 and next_state[4] == 1):\n",
        "                        door_open_reward = 0.3\n",
        "                    elif (prev_door_open == 1 and next_state[4] == 0):\n",
        "                        door_open_reward = -0.5\n",
        "                    elif next_state[4] != 1:\n",
        "                        door_open_reward = -0.01\n",
        "                    else:\n",
        "                        door_open_reward = 0.0\n",
        "\n",
        "                else:\n",
        "                    door_open_reward = -0.01\n",
        "\n",
        "                if (episode + 1) > 5000 and timesteps > 100:\n",
        "                    late_penalty = -0.01\n",
        "                else:\n",
        "                    late_penalty = 0.0\n",
        "                shaped_reward = key_reward + door_open_reward + late_penalty\n",
        "\n",
        "            else:\n",
        "                shaped_reward = 0.0\n",
        "\n",
        "            if truncated:\n",
        "                reward = -5\n",
        "\n",
        "            # Update total reward.\n",
        "            reward += shaped_reward\n",
        "            total_reward += reward\n",
        "\n",
        "\n",
        "            # TODO: Initialize the next state in the Q-table if not already present.\n",
        "            if next_state not in q_table:\n",
        "                q_table[next_state] = np.zeros(env.action_space.n)\n",
        "\n",
        "            # TODO: Apply Q-learning update rule (Bellman equation).\n",
        "            q_table[state][action] += alpha * (reward + gamma * np.max(q_table[next_state]) - q_table[state][action])\n",
        "\n",
        "            # Move to the next state.\n",
        "            state = next_state\n",
        "            prev_has_key = state[2]\n",
        "            prev_door_open = state[4]\n",
        "            timesteps += 1\n",
        "\n",
        "            if truncated:\n",
        "                break\n",
        "\n",
        "        rewards_per_episode.append(total_reward)\n",
        "        epsilon = max(epsilon_end, epsilon * decay_rate)\n",
        "        pickup_rate += int(has_pick_up)\n",
        "        door_open_rate += int(prev_door_open == 1)\n",
        "        success_rate += int(not truncated)\n",
        "        if (episode + 1) % 100 == 0:\n",
        "            avg_reward = np.mean(rewards_per_episode[-100:])\n",
        "            avg_pickup_rate = pickup_rate / 100\n",
        "            avg_door_open_rate = door_open_rate / 100\n",
        "            avg_success_rate = success_rate / 100\n",
        "            pickup_rate = 0\n",
        "            door_open_rate = 0\n",
        "            success_rate = 0\n",
        "            print(f\"🚀 Episode {episode + 1}/{episodes}, Average Reward: {avg_reward:.2f}, Epsilon: {epsilon:.3f}\")\n",
        "            print(f\"action distribution: {action_memory}\")\n",
        "            print(f\"Key pick up rate: {avg_pickup_rate}, Door open rate: {avg_door_open_rate}, Success rate: {avg_success_rate}\")\n",
        "\n",
        "    env.close()\n",
        "    return q_table, rewards_per_episode\n",
        "\n",
        "\n"
      ]
    },
    {
      "cell_type": "markdown",
      "metadata": {
        "id": "xaocKxzXk85Y"
      },
      "source": [
        "Training with reward shapping in the MiniGrid-DoorKey Environment.\n",
        "\n",
        "⚠️ **You can only adjust the episodes in this cell**—any others changes will result in a score of **0** for your training code above."
      ]
    },
    {
      "cell_type": "code",
      "execution_count": 136,
      "metadata": {
        "colab": {
          "base_uri": "https://localhost:8080/",
          "height": 1000
        },
        "id": "G-mAPyg-k6SE",
        "outputId": "000246d9-c50b-4918-b82e-0acfc3ac72dc"
      },
      "outputs": [
        {
          "name": "stdout",
          "output_type": "stream",
          "text": [
            "🚀 Training MiniGrid-DoorKey-8x8-v0\n"
          ]
        },
        {
          "name": "stderr",
          "output_type": "stream",
          "text": [
            "  1%|          | 100/10000 [00:35<50:53,  3.24it/s]"
          ]
        },
        {
          "name": "stdout",
          "output_type": "stream",
          "text": [
            "🚀 Episode 100/10000, Average Reward: -25.36, Epsilon: 0.951\n",
            "action distribution: {0: 90, 1: 98, 2: 95, 3: 85, 4: 104, 5: 88, 6: 80}\n",
            "Key pick up rate: 0.9\n",
            "Door open rate: 0.12\n",
            "Success rate: 0.03\n"
          ]
        },
        {
          "name": "stderr",
          "output_type": "stream",
          "text": [
            "  2%|▏         | 200/10000 [01:11<50:28,  3.24it/s]"
          ]
        },
        {
          "name": "stdout",
          "output_type": "stream",
          "text": [
            "🚀 Episode 200/10000, Average Reward: -25.19, Epsilon: 0.905\n",
            "action distribution: {0: 109, 1: 97, 2: 75, 3: 98, 4: 76, 5: 87, 6: 98}\n",
            "Key pick up rate: 0.94\n",
            "Door open rate: 0.2\n",
            "Success rate: 0.02\n"
          ]
        },
        {
          "name": "stderr",
          "output_type": "stream",
          "text": [
            "  3%|▎         | 300/10000 [01:43<1:09:21,  2.33it/s]"
          ]
        },
        {
          "name": "stdout",
          "output_type": "stream",
          "text": [
            "🚀 Episode 300/10000, Average Reward: -24.97, Epsilon: 0.861\n",
            "action distribution: {0: 100, 1: 108, 2: 96, 3: 85, 4: 88, 5: 91, 6: 72}\n",
            "Key pick up rate: 0.96\n",
            "Door open rate: 0.31\n",
            "Success rate: 0.09\n"
          ]
        },
        {
          "name": "stderr",
          "output_type": "stream",
          "text": [
            "  4%|▍         | 400/10000 [02:16<52:04,  3.07it/s]"
          ]
        },
        {
          "name": "stdout",
          "output_type": "stream",
          "text": [
            "🚀 Episode 400/10000, Average Reward: -25.36, Epsilon: 0.819\n",
            "action distribution: {0: 114, 1: 108, 2: 83, 3: 81, 4: 90, 5: 78, 6: 86}\n",
            "Key pick up rate: 0.96\n",
            "Door open rate: 0.33\n",
            "Success rate: 0.07\n"
          ]
        },
        {
          "name": "stderr",
          "output_type": "stream",
          "text": [
            "  5%|▌         | 500/10000 [02:49<1:01:26,  2.58it/s]"
          ]
        },
        {
          "name": "stdout",
          "output_type": "stream",
          "text": [
            "🚀 Episode 500/10000, Average Reward: -25.17, Epsilon: 0.779\n",
            "action distribution: {0: 115, 1: 114, 2: 93, 3: 77, 4: 80, 5: 68, 6: 93}\n",
            "Key pick up rate: 0.99\n",
            "Door open rate: 0.33\n",
            "Success rate: 0.14\n"
          ]
        },
        {
          "name": "stderr",
          "output_type": "stream",
          "text": [
            "  6%|▌         | 601/10000 [03:19<39:56,  3.92it/s]"
          ]
        },
        {
          "name": "stdout",
          "output_type": "stream",
          "text": [
            "🚀 Episode 600/10000, Average Reward: -24.55, Epsilon: 0.741\n",
            "action distribution: {0: 97, 1: 95, 2: 92, 3: 106, 4: 82, 5: 77, 6: 91}\n",
            "Key pick up rate: 1.0\n",
            "Door open rate: 0.44\n",
            "Success rate: 0.17\n"
          ]
        },
        {
          "name": "stderr",
          "output_type": "stream",
          "text": [
            "  7%|▋         | 700/10000 [03:49<52:22,  2.96it/s]"
          ]
        },
        {
          "name": "stdout",
          "output_type": "stream",
          "text": [
            "🚀 Episode 700/10000, Average Reward: -24.33, Epsilon: 0.705\n",
            "action distribution: {0: 100, 1: 96, 2: 75, 3: 93, 4: 77, 5: 106, 6: 93}\n",
            "Key pick up rate: 1.0\n",
            "Door open rate: 0.43\n",
            "Success rate: 0.22\n"
          ]
        },
        {
          "name": "stderr",
          "output_type": "stream",
          "text": [
            "  8%|▊         | 800/10000 [04:17<56:15,  2.73it/s]"
          ]
        },
        {
          "name": "stdout",
          "output_type": "stream",
          "text": [
            "🚀 Episode 800/10000, Average Reward: -22.39, Epsilon: 0.670\n",
            "action distribution: {0: 97, 1: 89, 2: 97, 3: 98, 4: 92, 5: 84, 6: 83}\n",
            "Key pick up rate: 1.0\n",
            "Door open rate: 0.6\n",
            "Success rate: 0.37\n"
          ]
        },
        {
          "name": "stderr",
          "output_type": "stream",
          "text": [
            "  9%|▉         | 900/10000 [04:50<37:47,  4.01it/s]"
          ]
        },
        {
          "name": "stdout",
          "output_type": "stream",
          "text": [
            "🚀 Episode 900/10000, Average Reward: -23.38, Epsilon: 0.638\n",
            "action distribution: {0: 62, 1: 66, 2: 62, 3: 56, 4: 47, 5: 55, 6: 50}\n",
            "Key pick up rate: 1.0\n",
            "Door open rate: 0.56\n",
            "Success rate: 0.33\n"
          ]
        },
        {
          "name": "stderr",
          "output_type": "stream",
          "text": [
            " 10%|█         | 1001/10000 [05:17<30:59,  4.84it/s]"
          ]
        },
        {
          "name": "stdout",
          "output_type": "stream",
          "text": [
            "🚀 Episode 1000/10000, Average Reward: -21.64, Epsilon: 0.606\n",
            "action distribution: {0: 94, 1: 83, 2: 86, 3: 108, 4: 81, 5: 96, 6: 92}\n",
            "Key pick up rate: 1.0\n",
            "Door open rate: 0.56\n",
            "Success rate: 0.37\n"
          ]
        },
        {
          "name": "stderr",
          "output_type": "stream",
          "text": [
            " 11%|█         | 1101/10000 [05:41<30:50,  4.81it/s]"
          ]
        },
        {
          "name": "stdout",
          "output_type": "stream",
          "text": [
            "🚀 Episode 1100/10000, Average Reward: -18.67, Epsilon: 0.577\n",
            "action distribution: {0: 70, 1: 70, 2: 68, 3: 101, 4: 64, 5: 64, 6: 58}\n",
            "Key pick up rate: 1.0\n",
            "Door open rate: 0.73\n",
            "Success rate: 0.54\n"
          ]
        },
        {
          "name": "stderr",
          "output_type": "stream",
          "text": [
            " 12%|█▏        | 1201/10000 [06:01<18:22,  7.98it/s]"
          ]
        },
        {
          "name": "stdout",
          "output_type": "stream",
          "text": [
            "🚀 Episode 1200/10000, Average Reward: -15.42, Epsilon: 0.549\n",
            "action distribution: {0: 24, 1: 26, 2: 49, 3: 26, 4: 17, 5: 25, 6: 27}\n",
            "Key pick up rate: 1.0\n",
            "Door open rate: 0.77\n",
            "Success rate: 0.64\n"
          ]
        },
        {
          "name": "stderr",
          "output_type": "stream",
          "text": [
            " 13%|█▎        | 1300/10000 [06:22<31:29,  4.60it/s]"
          ]
        },
        {
          "name": "stdout",
          "output_type": "stream",
          "text": [
            "🚀 Episode 1300/10000, Average Reward: -15.65, Epsilon: 0.522\n",
            "action distribution: {0: 42, 1: 65, 2: 48, 3: 50, 4: 37, 5: 54, 6: 46}\n",
            "Key pick up rate: 1.0\n",
            "Door open rate: 0.68\n",
            "Success rate: 0.59\n"
          ]
        },
        {
          "name": "stderr",
          "output_type": "stream",
          "text": [
            " 14%|█▍        | 1402/10000 [06:43<16:32,  8.66it/s]"
          ]
        },
        {
          "name": "stdout",
          "output_type": "stream",
          "text": [
            "🚀 Episode 1400/10000, Average Reward: -14.47, Epsilon: 0.496\n",
            "action distribution: {0: 87, 1: 94, 2: 176, 3: 73, 4: 70, 5: 80, 6: 60}\n",
            "Key pick up rate: 1.0\n",
            "Door open rate: 0.74\n",
            "Success rate: 0.64\n"
          ]
        },
        {
          "name": "stderr",
          "output_type": "stream",
          "text": [
            " 15%|█▌        | 1502/10000 [07:03<25:28,  5.56it/s]"
          ]
        },
        {
          "name": "stdout",
          "output_type": "stream",
          "text": [
            "🚀 Episode 1500/10000, Average Reward: -13.20, Epsilon: 0.472\n",
            "action distribution: {0: 103, 1: 98, 2: 80, 3: 102, 4: 70, 5: 91, 6: 96}\n",
            "Key pick up rate: 1.0\n",
            "Door open rate: 0.77\n",
            "Success rate: 0.71\n"
          ]
        },
        {
          "name": "stderr",
          "output_type": "stream",
          "text": [
            " 16%|█▌        | 1600/10000 [07:18<28:46,  4.87it/s]"
          ]
        },
        {
          "name": "stdout",
          "output_type": "stream",
          "text": [
            "🚀 Episode 1600/10000, Average Reward: -10.81, Epsilon: 0.449\n",
            "action distribution: {0: 110, 1: 107, 2: 84, 3: 87, 4: 79, 5: 90, 6: 83}\n",
            "Key pick up rate: 1.0\n",
            "Door open rate: 0.87\n",
            "Success rate: 0.79\n"
          ]
        },
        {
          "name": "stderr",
          "output_type": "stream",
          "text": [
            " 17%|█▋        | 1699/10000 [07:33<13:10, 10.49it/s]"
          ]
        },
        {
          "name": "stdout",
          "output_type": "stream",
          "text": [
            "🚀 Episode 1700/10000, Average Reward: -9.67, Epsilon: 0.427\n",
            "action distribution: {0: 71, 1: 96, 2: 213, 3: 65, 4: 61, 5: 71, 6: 63}\n",
            "Key pick up rate: 1.0\n",
            "Door open rate: 0.86\n",
            "Success rate: 0.81\n"
          ]
        },
        {
          "name": "stderr",
          "output_type": "stream",
          "text": [
            " 18%|█▊        | 1800/10000 [07:50<22:21,  6.11it/s]"
          ]
        },
        {
          "name": "stdout",
          "output_type": "stream",
          "text": [
            "🚀 Episode 1800/10000, Average Reward: -10.24, Epsilon: 0.406\n",
            "action distribution: {0: 55, 1: 40, 2: 44, 3: 38, 4: 32, 5: 46, 6: 43}\n",
            "Key pick up rate: 1.0\n",
            "Door open rate: 0.89\n",
            "Success rate: 0.82\n"
          ]
        },
        {
          "name": "stderr",
          "output_type": "stream",
          "text": [
            " 19%|█▉        | 1901/10000 [08:05<23:51,  5.66it/s]"
          ]
        },
        {
          "name": "stdout",
          "output_type": "stream",
          "text": [
            "🚀 Episode 1900/10000, Average Reward: -8.21, Epsilon: 0.387\n",
            "action distribution: {0: 106, 1: 91, 2: 79, 3: 91, 4: 83, 5: 92, 6: 98}\n",
            "Key pick up rate: 1.0\n",
            "Door open rate: 0.93\n",
            "Success rate: 0.88\n"
          ]
        },
        {
          "name": "stderr",
          "output_type": "stream",
          "text": [
            " 20%|██        | 2002/10000 [08:18<22:54,  5.82it/s]"
          ]
        },
        {
          "name": "stdout",
          "output_type": "stream",
          "text": [
            "🚀 Episode 2000/10000, Average Reward: -6.96, Epsilon: 0.368\n",
            "action distribution: {0: 27, 1: 37, 2: 25, 3: 35, 4: 13, 5: 29, 6: 29}\n",
            "Key pick up rate: 1.0\n",
            "Door open rate: 0.94\n",
            "Success rate: 0.92\n"
          ]
        },
        {
          "name": "stderr",
          "output_type": "stream",
          "text": [
            " 21%|██        | 2099/10000 [08:28<15:29,  8.50it/s]"
          ]
        },
        {
          "name": "stdout",
          "output_type": "stream",
          "text": [
            "🚀 Episode 2100/10000, Average Reward: -5.42, Epsilon: 0.350\n",
            "action distribution: {0: 0, 1: 1, 2: 7, 3: 2, 4: 0, 5: 2, 6: 1}\n",
            "Key pick up rate: 1.0\n",
            "Door open rate: 0.95\n",
            "Success rate: 0.91\n"
          ]
        },
        {
          "name": "stderr",
          "output_type": "stream",
          "text": [
            " 22%|██▏       | 2200/10000 [08:37<11:50, 10.97it/s]"
          ]
        },
        {
          "name": "stdout",
          "output_type": "stream",
          "text": [
            "🚀 Episode 2200/10000, Average Reward: -4.85, Epsilon: 0.333\n",
            "action distribution: {0: 62, 1: 65, 2: 41, 3: 59, 4: 47, 5: 48, 6: 64}\n",
            "Key pick up rate: 1.0\n",
            "Door open rate: 1.0\n",
            "Success rate: 0.95\n"
          ]
        },
        {
          "name": "stderr",
          "output_type": "stream",
          "text": [
            " 23%|██▎       | 2301/10000 [08:46<08:45, 14.65it/s]"
          ]
        },
        {
          "name": "stdout",
          "output_type": "stream",
          "text": [
            "🚀 Episode 2300/10000, Average Reward: -4.37, Epsilon: 0.317\n",
            "action distribution: {0: 32, 1: 26, 2: 31, 3: 28, 4: 23, 5: 24, 6: 26}\n",
            "Key pick up rate: 1.0\n",
            "Door open rate: 0.99\n",
            "Success rate: 0.92\n"
          ]
        },
        {
          "name": "stderr",
          "output_type": "stream",
          "text": [
            " 24%|██▍       | 2403/10000 [08:54<13:17,  9.53it/s]"
          ]
        },
        {
          "name": "stdout",
          "output_type": "stream",
          "text": [
            "🚀 Episode 2400/10000, Average Reward: -3.49, Epsilon: 0.301\n",
            "action distribution: {0: 13, 1: 11, 2: 19, 3: 15, 4: 8, 5: 20, 6: 17}\n",
            "Key pick up rate: 1.0\n",
            "Door open rate: 0.97\n",
            "Success rate: 0.95\n"
          ]
        },
        {
          "name": "stderr",
          "output_type": "stream",
          "text": [
            " 25%|██▌       | 2501/10000 [09:00<08:21, 14.95it/s]"
          ]
        },
        {
          "name": "stdout",
          "output_type": "stream",
          "text": [
            "🚀 Episode 2500/10000, Average Reward: -2.14, Epsilon: 0.286\n",
            "action distribution: {0: 59, 1: 49, 2: 284, 3: 58, 4: 33, 5: 80, 6: 77}\n",
            "Key pick up rate: 1.0\n",
            "Door open rate: 0.99\n",
            "Success rate: 0.96\n"
          ]
        },
        {
          "name": "stderr",
          "output_type": "stream",
          "text": [
            " 26%|██▌       | 2602/10000 [09:05<07:34, 16.29it/s]"
          ]
        },
        {
          "name": "stdout",
          "output_type": "stream",
          "text": [
            "🚀 Episode 2600/10000, Average Reward: -1.87, Epsilon: 0.272\n",
            "action distribution: {0: 19, 1: 25, 2: 25, 3: 22, 4: 31, 5: 28, 6: 22}\n",
            "Key pick up rate: 1.0\n",
            "Door open rate: 1.0\n",
            "Success rate: 1.0\n"
          ]
        },
        {
          "name": "stderr",
          "output_type": "stream",
          "text": [
            " 27%|██▋       | 2701/10000 [09:12<05:04, 23.98it/s]"
          ]
        },
        {
          "name": "stdout",
          "output_type": "stream",
          "text": [
            "🚀 Episode 2700/10000, Average Reward: -2.59, Epsilon: 0.259\n",
            "action distribution: {0: 8, 1: 8, 2: 14, 3: 11, 4: 4, 5: 8, 6: 7}\n",
            "Key pick up rate: 0.99\n",
            "Door open rate: 0.99\n",
            "Success rate: 0.97\n"
          ]
        },
        {
          "name": "stderr",
          "output_type": "stream",
          "text": [
            " 28%|██▊       | 2801/10000 [09:17<05:18, 22.60it/s]"
          ]
        },
        {
          "name": "stdout",
          "output_type": "stream",
          "text": [
            "🚀 Episode 2800/10000, Average Reward: -1.85, Epsilon: 0.247\n",
            "action distribution: {0: 1, 1: 3, 2: 12, 3: 4, 4: 1, 5: 2, 6: 4}\n",
            "Key pick up rate: 1.0\n",
            "Door open rate: 1.0\n",
            "Success rate: 0.97\n"
          ]
        },
        {
          "name": "stderr",
          "output_type": "stream",
          "text": [
            " 29%|██▉       | 2901/10000 [09:24<06:48, 17.39it/s]"
          ]
        },
        {
          "name": "stdout",
          "output_type": "stream",
          "text": [
            "🚀 Episode 2900/10000, Average Reward: -2.52, Epsilon: 0.234\n",
            "action distribution: {0: 91, 1: 112, 2: 79, 3: 87, 4: 91, 5: 76, 6: 104}\n",
            "Key pick up rate: 1.0\n",
            "Door open rate: 1.0\n",
            "Success rate: 0.95\n"
          ]
        },
        {
          "name": "stderr",
          "output_type": "stream",
          "text": [
            " 30%|███       | 3007/10000 [09:28<05:23, 21.59it/s]"
          ]
        },
        {
          "name": "stdout",
          "output_type": "stream",
          "text": [
            "🚀 Episode 3000/10000, Average Reward: -1.54, Epsilon: 0.223\n",
            "action distribution: {0: 6, 1: 6, 2: 14, 3: 8, 4: 1, 5: 7, 6: 7}\n",
            "Key pick up rate: 1.0\n",
            "Door open rate: 1.0\n",
            "Success rate: 0.96\n"
          ]
        },
        {
          "name": "stderr",
          "output_type": "stream",
          "text": [
            " 31%|███       | 3108/10000 [09:34<04:08, 27.77it/s]"
          ]
        },
        {
          "name": "stdout",
          "output_type": "stream",
          "text": [
            "🚀 Episode 3100/10000, Average Reward: -1.52, Epsilon: 0.212\n",
            "action distribution: {0: 2, 1: 10, 2: 23, 3: 2, 4: 2, 5: 4, 6: 4}\n",
            "Key pick up rate: 1.0\n",
            "Door open rate: 1.0\n",
            "Success rate: 0.98\n"
          ]
        },
        {
          "name": "stderr",
          "output_type": "stream",
          "text": [
            " 32%|███▏      | 3204/10000 [09:38<04:04, 27.79it/s]"
          ]
        },
        {
          "name": "stdout",
          "output_type": "stream",
          "text": [
            "🚀 Episode 3200/10000, Average Reward: -0.88, Epsilon: 0.202\n",
            "action distribution: {0: 5, 1: 7, 2: 16, 3: 2, 4: 2, 5: 6, 6: 3}\n",
            "Key pick up rate: 1.0\n",
            "Door open rate: 1.0\n",
            "Success rate: 1.0\n"
          ]
        },
        {
          "name": "stderr",
          "output_type": "stream",
          "text": [
            " 33%|███▎      | 3303/10000 [09:41<04:00, 27.86it/s]"
          ]
        },
        {
          "name": "stdout",
          "output_type": "stream",
          "text": [
            "🚀 Episode 3300/10000, Average Reward: -0.58, Epsilon: 0.192\n",
            "action distribution: {0: 3, 1: 1, 2: 6, 3: 1, 4: 1, 5: 2, 6: 2}\n",
            "Key pick up rate: 1.0\n",
            "Door open rate: 1.0\n",
            "Success rate: 0.99\n"
          ]
        },
        {
          "name": "stderr",
          "output_type": "stream",
          "text": [
            " 34%|███▍      | 3407/10000 [09:47<04:31, 24.31it/s]"
          ]
        },
        {
          "name": "stdout",
          "output_type": "stream",
          "text": [
            "🚀 Episode 3400/10000, Average Reward: -1.33, Epsilon: 0.183\n",
            "action distribution: {0: 4, 1: 12, 2: 20, 3: 17, 4: 12, 5: 12, 6: 12}\n",
            "Key pick up rate: 1.0\n",
            "Door open rate: 1.0\n",
            "Success rate: 0.97\n"
          ]
        },
        {
          "name": "stderr",
          "output_type": "stream",
          "text": [
            " 35%|███▌      | 3503/10000 [09:51<03:23, 31.88it/s]"
          ]
        },
        {
          "name": "stdout",
          "output_type": "stream",
          "text": [
            "🚀 Episode 3500/10000, Average Reward: -1.12, Epsilon: 0.174\n",
            "action distribution: {0: 10, 1: 9, 2: 15, 3: 8, 4: 4, 5: 8, 6: 7}\n",
            "Key pick up rate: 1.0\n",
            "Door open rate: 1.0\n",
            "Success rate: 0.98\n"
          ]
        },
        {
          "name": "stderr",
          "output_type": "stream",
          "text": [
            " 36%|███▌      | 3608/10000 [09:54<03:00, 35.37it/s]"
          ]
        },
        {
          "name": "stdout",
          "output_type": "stream",
          "text": [
            "🚀 Episode 3600/10000, Average Reward: -0.51, Epsilon: 0.165\n",
            "action distribution: {0: 2, 1: 5, 2: 6, 3: 1, 4: 4, 5: 2, 6: 1}\n",
            "Key pick up rate: 1.0\n",
            "Door open rate: 1.0\n",
            "Success rate: 0.98\n"
          ]
        },
        {
          "name": "stderr",
          "output_type": "stream",
          "text": [
            " 37%|███▋      | 3708/10000 [10:01<03:15, 32.24it/s]"
          ]
        },
        {
          "name": "stdout",
          "output_type": "stream",
          "text": [
            "🚀 Episode 3700/10000, Average Reward: -0.56, Epsilon: 0.157\n",
            "action distribution: {0: 14, 1: 15, 2: 17, 3: 14, 4: 3, 5: 13, 6: 10}\n",
            "Key pick up rate: 1.0\n",
            "Door open rate: 1.0\n",
            "Success rate: 0.98\n"
          ]
        },
        {
          "name": "stderr",
          "output_type": "stream",
          "text": [
            " 38%|███▊      | 3805/10000 [10:04<03:04, 33.62it/s]"
          ]
        },
        {
          "name": "stdout",
          "output_type": "stream",
          "text": [
            "🚀 Episode 3800/10000, Average Reward: -0.21, Epsilon: 0.149\n",
            "action distribution: {0: 8, 1: 3, 2: 13, 3: 4, 4: 1, 5: 5, 6: 3}\n",
            "Key pick up rate: 1.0\n",
            "Door open rate: 1.0\n",
            "Success rate: 0.99\n"
          ]
        },
        {
          "name": "stderr",
          "output_type": "stream",
          "text": [
            " 39%|███▉      | 3906/10000 [10:08<03:09, 32.16it/s]"
          ]
        },
        {
          "name": "stdout",
          "output_type": "stream",
          "text": [
            "🚀 Episode 3900/10000, Average Reward: -0.44, Epsilon: 0.142\n",
            "action distribution: {0: 4, 1: 6, 2: 11, 3: 3, 4: 3, 5: 3, 6: 1}\n",
            "Key pick up rate: 1.0\n",
            "Door open rate: 1.0\n",
            "Success rate: 0.99\n"
          ]
        },
        {
          "name": "stderr",
          "output_type": "stream",
          "text": [
            " 40%|████      | 4005/10000 [10:11<03:15, 30.74it/s]"
          ]
        },
        {
          "name": "stdout",
          "output_type": "stream",
          "text": [
            "🚀 Episode 4000/10000, Average Reward: 0.16, Epsilon: 0.135\n",
            "action distribution: {0: 0, 1: 2, 2: 10, 3: 1, 4: 0, 5: 2, 6: 1}\n",
            "Key pick up rate: 1.0\n",
            "Door open rate: 1.0\n",
            "Success rate: 1.0\n"
          ]
        },
        {
          "name": "stderr",
          "output_type": "stream",
          "text": [
            " 41%|████      | 4112/10000 [10:14<02:41, 36.36it/s]"
          ]
        },
        {
          "name": "stdout",
          "output_type": "stream",
          "text": [
            "🚀 Episode 4100/10000, Average Reward: -0.59, Epsilon: 0.129\n",
            "action distribution: {0: 11, 1: 14, 2: 16, 3: 12, 4: 7, 5: 6, 6: 9}\n",
            "Key pick up rate: 1.0\n",
            "Door open rate: 1.0\n",
            "Success rate: 0.98\n"
          ]
        },
        {
          "name": "stderr",
          "output_type": "stream",
          "text": [
            " 42%|████▏     | 4205/10000 [10:17<02:41, 35.84it/s]"
          ]
        },
        {
          "name": "stdout",
          "output_type": "stream",
          "text": [
            "🚀 Episode 4200/10000, Average Reward: -0.12, Epsilon: 0.122\n",
            "action distribution: {0: 1, 1: 2, 2: 10, 3: 2, 4: 1, 5: 2, 6: 1}\n",
            "Key pick up rate: 1.0\n",
            "Door open rate: 1.0\n",
            "Success rate: 0.99\n"
          ]
        },
        {
          "name": "stderr",
          "output_type": "stream",
          "text": [
            " 43%|████▎     | 4315/10000 [10:20<02:32, 37.26it/s]"
          ]
        },
        {
          "name": "stdout",
          "output_type": "stream",
          "text": [
            "🚀 Episode 4300/10000, Average Reward: -0.01, Epsilon: 0.116\n",
            "action distribution: {0: 4, 1: 6, 2: 13, 3: 10, 4: 9, 5: 9, 6: 8}\n",
            "Key pick up rate: 1.0\n",
            "Door open rate: 1.0\n",
            "Success rate: 1.0\n"
          ]
        },
        {
          "name": "stderr",
          "output_type": "stream",
          "text": [
            " 44%|████▍     | 4408/10000 [10:23<02:45, 33.80it/s]"
          ]
        },
        {
          "name": "stdout",
          "output_type": "stream",
          "text": [
            "🚀 Episode 4400/10000, Average Reward: 0.16, Epsilon: 0.111\n",
            "action distribution: {0: 2, 1: 3, 2: 9, 3: 1, 4: 0, 5: 1, 6: 0}\n",
            "Key pick up rate: 1.0\n",
            "Door open rate: 1.0\n",
            "Success rate: 1.0\n"
          ]
        },
        {
          "name": "stderr",
          "output_type": "stream",
          "text": [
            " 45%|████▌     | 4515/10000 [10:26<02:06, 43.19it/s]"
          ]
        },
        {
          "name": "stdout",
          "output_type": "stream",
          "text": [
            "🚀 Episode 4500/10000, Average Reward: 0.22, Epsilon: 0.105\n",
            "action distribution: {0: 10, 1: 9, 2: 18, 3: 6, 4: 6, 5: 7, 6: 7}\n",
            "Key pick up rate: 1.0\n",
            "Door open rate: 1.0\n",
            "Success rate: 1.0\n"
          ]
        },
        {
          "name": "stderr",
          "output_type": "stream",
          "text": [
            " 46%|████▌     | 4606/10000 [10:28<02:04, 43.46it/s]"
          ]
        },
        {
          "name": "stdout",
          "output_type": "stream",
          "text": [
            "🚀 Episode 4600/10000, Average Reward: 0.29, Epsilon: 0.100\n",
            "action distribution: {0: 0, 1: 4, 2: 10, 3: 1, 4: 0, 5: 1, 6: 0}\n",
            "Key pick up rate: 1.0\n",
            "Door open rate: 1.0\n",
            "Success rate: 1.0\n"
          ]
        },
        {
          "name": "stderr",
          "output_type": "stream",
          "text": [
            " 47%|████▋     | 4710/10000 [10:30<01:37, 54.32it/s]"
          ]
        },
        {
          "name": "stdout",
          "output_type": "stream",
          "text": [
            "🚀 Episode 4700/10000, Average Reward: 0.21, Epsilon: 0.100\n",
            "action distribution: {0: 5, 1: 6, 2: 10, 3: 6, 4: 6, 5: 6, 6: 5}\n",
            "Key pick up rate: 1.0\n",
            "Door open rate: 1.0\n",
            "Success rate: 0.99\n"
          ]
        },
        {
          "name": "stderr",
          "output_type": "stream",
          "text": [
            " 48%|████▊     | 4810/10000 [10:32<02:11, 39.39it/s]"
          ]
        },
        {
          "name": "stdout",
          "output_type": "stream",
          "text": [
            "🚀 Episode 4800/10000, Average Reward: 0.22, Epsilon: 0.100\n",
            "action distribution: {0: 2, 1: 3, 2: 13, 3: 1, 4: 0, 5: 1, 6: 2}\n",
            "Key pick up rate: 1.0\n",
            "Door open rate: 1.0\n",
            "Success rate: 0.99\n"
          ]
        },
        {
          "name": "stderr",
          "output_type": "stream",
          "text": [
            " 49%|████▉     | 4903/10000 [10:35<02:18, 36.68it/s]"
          ]
        },
        {
          "name": "stdout",
          "output_type": "stream",
          "text": [
            "🚀 Episode 4900/10000, Average Reward: -0.01, Epsilon: 0.100\n",
            "action distribution: {0: 6, 1: 9, 2: 12, 3: 9, 4: 9, 5: 13, 6: 8}\n",
            "Key pick up rate: 1.0\n",
            "Door open rate: 1.0\n",
            "Success rate: 0.98\n"
          ]
        },
        {
          "name": "stderr",
          "output_type": "stream",
          "text": [
            " 50%|█████     | 5008/10000 [10:38<01:30, 55.31it/s]"
          ]
        },
        {
          "name": "stdout",
          "output_type": "stream",
          "text": [
            "🚀 Episode 5000/10000, Average Reward: -0.08, Epsilon: 0.100\n",
            "action distribution: {0: 8, 1: 2, 2: 12, 3: 2, 4: 1, 5: 2, 6: 0}\n",
            "Key pick up rate: 1.0\n",
            "Door open rate: 1.0\n",
            "Success rate: 0.98\n"
          ]
        },
        {
          "name": "stderr",
          "output_type": "stream",
          "text": [
            " 51%|█████     | 5108/10000 [10:40<01:40, 48.48it/s]"
          ]
        },
        {
          "name": "stdout",
          "output_type": "stream",
          "text": [
            "🚀 Episode 5100/10000, Average Reward: 0.21, Epsilon: 0.100\n",
            "action distribution: {0: 12, 1: 12, 2: 54, 3: 9, 4: 8, 5: 11, 6: 8}\n",
            "Key pick up rate: 1.0\n",
            "Door open rate: 1.0\n",
            "Success rate: 0.99\n"
          ]
        },
        {
          "name": "stderr",
          "output_type": "stream",
          "text": [
            " 52%|█████▏    | 5202/10000 [10:43<02:59, 26.68it/s]"
          ]
        },
        {
          "name": "stdout",
          "output_type": "stream",
          "text": [
            "🚀 Episode 5200/10000, Average Reward: -0.05, Epsilon: 0.100\n",
            "action distribution: {0: 1, 1: 2, 2: 6, 3: 1, 4: 0, 5: 1, 6: 1}\n",
            "Key pick up rate: 1.0\n",
            "Door open rate: 1.0\n",
            "Success rate: 0.99\n"
          ]
        },
        {
          "name": "stderr",
          "output_type": "stream",
          "text": [
            " 53%|█████▎    | 5311/10000 [10:45<01:50, 42.43it/s]"
          ]
        },
        {
          "name": "stdout",
          "output_type": "stream",
          "text": [
            "🚀 Episode 5300/10000, Average Reward: 0.09, Epsilon: 0.100\n",
            "action distribution: {0: 19, 1: 16, 2: 9, 3: 2, 4: 0, 5: 1, 6: 1}\n",
            "Key pick up rate: 1.0\n",
            "Door open rate: 1.0\n",
            "Success rate: 0.99\n"
          ]
        },
        {
          "name": "stderr",
          "output_type": "stream",
          "text": [
            " 54%|█████▍    | 5406/10000 [10:47<01:29, 51.14it/s]"
          ]
        },
        {
          "name": "stdout",
          "output_type": "stream",
          "text": [
            "🚀 Episode 5400/10000, Average Reward: 0.53, Epsilon: 0.100\n",
            "action distribution: {0: 1, 1: 5, 2: 16, 3: 6, 4: 3, 5: 4, 6: 2}\n",
            "Key pick up rate: 1.0\n",
            "Door open rate: 1.0\n",
            "Success rate: 1.0\n"
          ]
        },
        {
          "name": "stderr",
          "output_type": "stream",
          "text": [
            " 55%|█████▌    | 5514/10000 [10:51<01:19, 56.78it/s]"
          ]
        },
        {
          "name": "stdout",
          "output_type": "stream",
          "text": [
            "🚀 Episode 5500/10000, Average Reward: 0.20, Epsilon: 0.100\n",
            "action distribution: {0: 6, 1: 21, 2: 13, 3: 8, 4: 7, 5: 5, 6: 7}\n",
            "Key pick up rate: 1.0\n",
            "Door open rate: 1.0\n",
            "Success rate: 0.99\n"
          ]
        },
        {
          "name": "stderr",
          "output_type": "stream",
          "text": [
            " 56%|█████▌    | 5606/10000 [10:52<01:22, 53.19it/s]"
          ]
        },
        {
          "name": "stdout",
          "output_type": "stream",
          "text": [
            "🚀 Episode 5600/10000, Average Reward: 0.45, Epsilon: 0.100\n",
            "action distribution: {0: 2, 1: 2, 2: 11, 3: 1, 4: 0, 5: 1, 6: 0}\n",
            "Key pick up rate: 1.0\n",
            "Door open rate: 1.0\n",
            "Success rate: 0.99\n"
          ]
        },
        {
          "name": "stderr",
          "output_type": "stream",
          "text": [
            " 57%|█████▋    | 5711/10000 [10:55<01:46, 40.43it/s]"
          ]
        },
        {
          "name": "stdout",
          "output_type": "stream",
          "text": [
            "🚀 Episode 5700/10000, Average Reward: 0.21, Epsilon: 0.100\n",
            "action distribution: {0: 5, 1: 7, 2: 13, 3: 3, 4: 2, 5: 3, 6: 0}\n",
            "Key pick up rate: 1.0\n",
            "Door open rate: 1.0\n",
            "Success rate: 0.99\n"
          ]
        },
        {
          "name": "stderr",
          "output_type": "stream",
          "text": [
            " 58%|█████▊    | 5807/10000 [10:56<01:08, 61.65it/s]"
          ]
        },
        {
          "name": "stdout",
          "output_type": "stream",
          "text": [
            "🚀 Episode 5800/10000, Average Reward: 0.42, Epsilon: 0.100\n",
            "action distribution: {0: 3, 1: 2, 2: 10, 3: 4, 4: 4, 5: 5, 6: 2}\n",
            "Key pick up rate: 1.0\n",
            "Door open rate: 1.0\n",
            "Success rate: 1.0\n"
          ]
        },
        {
          "name": "stderr",
          "output_type": "stream",
          "text": [
            " 59%|█████▉    | 5910/10000 [10:59<01:17, 52.77it/s]"
          ]
        },
        {
          "name": "stdout",
          "output_type": "stream",
          "text": [
            "🚀 Episode 5900/10000, Average Reward: 0.04, Epsilon: 0.100\n",
            "action distribution: {0: 1, 1: 9, 2: 13, 3: 4, 4: 3, 5: 3, 6: 6}\n",
            "Key pick up rate: 1.0\n",
            "Door open rate: 1.0\n",
            "Success rate: 0.98\n"
          ]
        },
        {
          "name": "stderr",
          "output_type": "stream",
          "text": [
            " 60%|██████    | 6007/10000 [11:01<01:37, 40.86it/s]"
          ]
        },
        {
          "name": "stdout",
          "output_type": "stream",
          "text": [
            "🚀 Episode 6000/10000, Average Reward: 0.36, Epsilon: 0.100\n",
            "action distribution: {0: 3, 1: 3, 2: 11, 3: 1, 4: 2, 5: 2, 6: 2}\n",
            "Key pick up rate: 1.0\n",
            "Door open rate: 1.0\n",
            "Success rate: 1.0\n"
          ]
        },
        {
          "name": "stderr",
          "output_type": "stream",
          "text": [
            " 61%|██████    | 6111/10000 [11:04<01:10, 54.91it/s]"
          ]
        },
        {
          "name": "stdout",
          "output_type": "stream",
          "text": [
            "🚀 Episode 6100/10000, Average Reward: 0.08, Epsilon: 0.100\n",
            "action distribution: {0: 4, 1: 2, 2: 11, 3: 1, 4: 0, 5: 2, 6: 0}\n",
            "Key pick up rate: 1.0\n",
            "Door open rate: 1.0\n",
            "Success rate: 0.99\n"
          ]
        },
        {
          "name": "stderr",
          "output_type": "stream",
          "text": [
            " 62%|██████▏   | 6215/10000 [11:07<01:02, 60.41it/s]"
          ]
        },
        {
          "name": "stdout",
          "output_type": "stream",
          "text": [
            "🚀 Episode 6200/10000, Average Reward: -0.13, Epsilon: 0.100\n",
            "action distribution: {0: 1, 1: 4, 2: 14, 3: 2, 4: 1, 5: 3, 6: 1}\n",
            "Key pick up rate: 1.0\n",
            "Door open rate: 1.0\n",
            "Success rate: 0.97\n"
          ]
        },
        {
          "name": "stderr",
          "output_type": "stream",
          "text": [
            " 63%|██████▎   | 6310/10000 [11:08<01:01, 60.15it/s]"
          ]
        },
        {
          "name": "stdout",
          "output_type": "stream",
          "text": [
            "🚀 Episode 6300/10000, Average Reward: 0.39, Epsilon: 0.100\n",
            "action distribution: {0: 1, 1: 3, 2: 12, 3: 1, 4: 0, 5: 1, 6: 0}\n",
            "Key pick up rate: 1.0\n",
            "Door open rate: 1.0\n",
            "Success rate: 1.0\n"
          ]
        },
        {
          "name": "stderr",
          "output_type": "stream",
          "text": [
            " 64%|██████▍   | 6414/10000 [11:10<00:58, 61.12it/s]"
          ]
        },
        {
          "name": "stdout",
          "output_type": "stream",
          "text": [
            "🚀 Episode 6400/10000, Average Reward: 0.34, Epsilon: 0.100\n",
            "action distribution: {0: 0, 1: 2, 2: 7, 3: 1, 4: 0, 5: 1, 6: 0}\n",
            "Key pick up rate: 1.0\n",
            "Door open rate: 1.0\n",
            "Success rate: 0.99\n"
          ]
        },
        {
          "name": "stderr",
          "output_type": "stream",
          "text": [
            " 65%|██████▌   | 6509/10000 [11:13<01:16, 45.61it/s]"
          ]
        },
        {
          "name": "stdout",
          "output_type": "stream",
          "text": [
            "🚀 Episode 6500/10000, Average Reward: 0.07, Epsilon: 0.100\n",
            "action distribution: {0: 1, 1: 1, 2: 7, 3: 1, 4: 0, 5: 1, 6: 0}\n",
            "Key pick up rate: 1.0\n",
            "Door open rate: 1.0\n",
            "Success rate: 0.98\n"
          ]
        },
        {
          "name": "stderr",
          "output_type": "stream",
          "text": [
            " 66%|██████▌   | 6611/10000 [11:16<02:05, 27.00it/s]"
          ]
        },
        {
          "name": "stdout",
          "output_type": "stream",
          "text": [
            "🚀 Episode 6600/10000, Average Reward: 0.05, Epsilon: 0.100\n",
            "action distribution: {0: 4, 1: 5, 2: 14, 3: 6, 4: 4, 5: 3, 6: 5}\n",
            "Key pick up rate: 1.0\n",
            "Door open rate: 1.0\n",
            "Success rate: 0.98\n"
          ]
        },
        {
          "name": "stderr",
          "output_type": "stream",
          "text": [
            " 67%|██████▋   | 6718/10000 [11:18<00:55, 58.94it/s]"
          ]
        },
        {
          "name": "stdout",
          "output_type": "stream",
          "text": [
            "🚀 Episode 6700/10000, Average Reward: 0.04, Epsilon: 0.100\n",
            "action distribution: {0: 3, 1: 1, 2: 9, 3: 2, 4: 2, 5: 1, 6: 0}\n",
            "Key pick up rate: 1.0\n",
            "Door open rate: 1.0\n",
            "Success rate: 0.98\n"
          ]
        },
        {
          "name": "stderr",
          "output_type": "stream",
          "text": [
            " 68%|██████▊   | 6810/10000 [11:20<00:57, 55.88it/s]"
          ]
        },
        {
          "name": "stdout",
          "output_type": "stream",
          "text": [
            "🚀 Episode 6800/10000, Average Reward: 0.34, Epsilon: 0.100\n",
            "action distribution: {0: 5, 1: 4, 2: 16, 3: 1, 4: 1, 5: 2, 6: 0}\n",
            "Key pick up rate: 1.0\n",
            "Door open rate: 1.0\n",
            "Success rate: 0.99\n"
          ]
        },
        {
          "name": "stderr",
          "output_type": "stream",
          "text": [
            " 69%|██████▉   | 6907/10000 [11:21<00:49, 62.58it/s]"
          ]
        },
        {
          "name": "stdout",
          "output_type": "stream",
          "text": [
            "🚀 Episode 6900/10000, Average Reward: 0.66, Epsilon: 0.100\n",
            "action distribution: {0: 2, 1: 2, 2: 8, 3: 1, 4: 0, 5: 1, 6: 0}\n",
            "Key pick up rate: 1.0\n",
            "Door open rate: 1.0\n",
            "Success rate: 1.0\n"
          ]
        },
        {
          "name": "stderr",
          "output_type": "stream",
          "text": [
            " 70%|███████   | 7011/10000 [11:23<01:04, 46.24it/s]"
          ]
        },
        {
          "name": "stdout",
          "output_type": "stream",
          "text": [
            "🚀 Episode 7000/10000, Average Reward: 0.47, Epsilon: 0.100\n",
            "action distribution: {0: 1, 1: 2, 2: 8, 3: 1, 4: 0, 5: 1, 6: 0}\n",
            "Key pick up rate: 1.0\n",
            "Door open rate: 1.0\n",
            "Success rate: 0.99\n"
          ]
        },
        {
          "name": "stderr",
          "output_type": "stream",
          "text": [
            " 71%|███████   | 7117/10000 [11:25<00:44, 65.00it/s]"
          ]
        },
        {
          "name": "stdout",
          "output_type": "stream",
          "text": [
            "🚀 Episode 7100/10000, Average Reward: 0.63, Epsilon: 0.100\n",
            "action distribution: {0: 2, 1: 3, 2: 8, 3: 1, 4: 0, 5: 1, 6: 0}\n",
            "Key pick up rate: 1.0\n",
            "Door open rate: 1.0\n",
            "Success rate: 1.0\n"
          ]
        },
        {
          "name": "stderr",
          "output_type": "stream",
          "text": [
            " 72%|███████▏  | 7203/10000 [11:27<01:15, 37.10it/s]"
          ]
        },
        {
          "name": "stdout",
          "output_type": "stream",
          "text": [
            "🚀 Episode 7200/10000, Average Reward: 0.15, Epsilon: 0.100\n",
            "action distribution: {0: 1, 1: 2, 2: 10, 3: 1, 4: 2, 5: 1, 6: 0}\n",
            "Key pick up rate: 1.0\n",
            "Door open rate: 1.0\n",
            "Success rate: 0.98\n"
          ]
        },
        {
          "name": "stderr",
          "output_type": "stream",
          "text": [
            " 73%|███████▎  | 7308/10000 [11:29<00:44, 60.24it/s]"
          ]
        },
        {
          "name": "stdout",
          "output_type": "stream",
          "text": [
            "🚀 Episode 7300/10000, Average Reward: 0.34, Epsilon: 0.100\n",
            "action distribution: {0: 3, 1: 4, 2: 14, 3: 4, 4: 0, 5: 4, 6: 2}\n",
            "Key pick up rate: 1.0\n",
            "Door open rate: 1.0\n",
            "Success rate: 0.99\n"
          ]
        },
        {
          "name": "stderr",
          "output_type": "stream",
          "text": [
            " 74%|███████▍  | 7417/10000 [11:31<00:36, 70.01it/s]"
          ]
        },
        {
          "name": "stdout",
          "output_type": "stream",
          "text": [
            "🚀 Episode 7400/10000, Average Reward: 0.28, Epsilon: 0.100\n",
            "action distribution: {0: 0, 1: 3, 2: 6, 3: 2, 4: 0, 5: 1, 6: 0}\n",
            "Key pick up rate: 1.0\n",
            "Door open rate: 1.0\n",
            "Success rate: 0.99\n"
          ]
        },
        {
          "name": "stderr",
          "output_type": "stream",
          "text": [
            " 75%|███████▌  | 7507/10000 [11:33<00:40, 62.15it/s]"
          ]
        },
        {
          "name": "stdout",
          "output_type": "stream",
          "text": [
            "🚀 Episode 7500/10000, Average Reward: 0.70, Epsilon: 0.100\n",
            "action distribution: {0: 2, 1: 2, 2: 13, 3: 1, 4: 0, 5: 1, 6: 0}\n",
            "Key pick up rate: 1.0\n",
            "Door open rate: 1.0\n",
            "Success rate: 1.0\n"
          ]
        },
        {
          "name": "stderr",
          "output_type": "stream",
          "text": [
            " 76%|███████▌  | 7605/10000 [11:34<00:30, 77.70it/s]"
          ]
        },
        {
          "name": "stdout",
          "output_type": "stream",
          "text": [
            "🚀 Episode 7600/10000, Average Reward: 0.74, Epsilon: 0.100\n",
            "action distribution: {0: 4, 1: 3, 2: 12, 3: 2, 4: 1, 5: 1, 6: 1}\n",
            "Key pick up rate: 1.0\n",
            "Door open rate: 1.0\n",
            "Success rate: 1.0\n"
          ]
        },
        {
          "name": "stderr",
          "output_type": "stream",
          "text": [
            " 77%|███████▋  | 7714/10000 [11:36<00:44, 51.06it/s]"
          ]
        },
        {
          "name": "stdout",
          "output_type": "stream",
          "text": [
            "🚀 Episode 7700/10000, Average Reward: 0.16, Epsilon: 0.100\n",
            "action distribution: {0: 0, 1: 3, 2: 10, 3: 2, 4: 0, 5: 1, 6: 2}\n",
            "Key pick up rate: 1.0\n",
            "Door open rate: 1.0\n",
            "Success rate: 0.98\n"
          ]
        },
        {
          "name": "stderr",
          "output_type": "stream",
          "text": [
            " 78%|███████▊  | 7810/10000 [11:38<00:40, 54.48it/s]"
          ]
        },
        {
          "name": "stdout",
          "output_type": "stream",
          "text": [
            "🚀 Episode 7800/10000, Average Reward: -0.18, Epsilon: 0.100\n",
            "action distribution: {0: 1, 1: 4, 2: 7, 3: 2, 4: 0, 5: 2, 6: 0}\n",
            "Key pick up rate: 1.0\n",
            "Door open rate: 1.0\n",
            "Success rate: 0.97\n"
          ]
        },
        {
          "name": "stderr",
          "output_type": "stream",
          "text": [
            " 79%|███████▉  | 7905/10000 [11:41<00:53, 38.89it/s]"
          ]
        },
        {
          "name": "stdout",
          "output_type": "stream",
          "text": [
            "🚀 Episode 7900/10000, Average Reward: 0.47, Epsilon: 0.100\n",
            "action distribution: {0: 3, 1: 2, 2: 10, 3: 3, 4: 2, 5: 5, 6: 3}\n",
            "Key pick up rate: 1.0\n",
            "Door open rate: 1.0\n",
            "Success rate: 0.99\n"
          ]
        },
        {
          "name": "stderr",
          "output_type": "stream",
          "text": [
            " 80%|████████  | 8003/10000 [11:43<00:37, 53.40it/s]"
          ]
        },
        {
          "name": "stdout",
          "output_type": "stream",
          "text": [
            "🚀 Episode 8000/10000, Average Reward: 0.44, Epsilon: 0.100\n",
            "action distribution: {0: 0, 1: 3, 2: 9, 3: 1, 4: 0, 5: 1, 6: 0}\n",
            "Key pick up rate: 1.0\n",
            "Door open rate: 1.0\n",
            "Success rate: 1.0\n"
          ]
        },
        {
          "name": "stderr",
          "output_type": "stream",
          "text": [
            " 81%|████████  | 8114/10000 [11:45<00:31, 60.45it/s]"
          ]
        },
        {
          "name": "stdout",
          "output_type": "stream",
          "text": [
            "🚀 Episode 8100/10000, Average Reward: 0.26, Epsilon: 0.100\n",
            "action distribution: {0: 1, 1: 3, 2: 11, 3: 1, 4: 0, 5: 1, 6: 0}\n",
            "Key pick up rate: 1.0\n",
            "Door open rate: 1.0\n",
            "Success rate: 0.99\n"
          ]
        },
        {
          "name": "stderr",
          "output_type": "stream",
          "text": [
            " 82%|████████▏ | 8212/10000 [11:46<00:33, 53.09it/s]"
          ]
        },
        {
          "name": "stdout",
          "output_type": "stream",
          "text": [
            "🚀 Episode 8200/10000, Average Reward: 0.29, Epsilon: 0.100\n",
            "action distribution: {0: 1, 1: 3, 2: 9, 3: 3, 4: 2, 5: 2, 6: 0}\n",
            "Key pick up rate: 1.0\n",
            "Door open rate: 1.0\n",
            "Success rate: 0.98\n"
          ]
        },
        {
          "name": "stderr",
          "output_type": "stream",
          "text": [
            " 83%|████████▎ | 8311/10000 [11:48<00:28, 59.71it/s]"
          ]
        },
        {
          "name": "stdout",
          "output_type": "stream",
          "text": [
            "🚀 Episode 8300/10000, Average Reward: 0.60, Epsilon: 0.100\n",
            "action distribution: {0: 1, 1: 2, 2: 7, 3: 1, 4: 0, 5: 1, 6: 0}\n",
            "Key pick up rate: 1.0\n",
            "Door open rate: 1.0\n",
            "Success rate: 1.0\n"
          ]
        },
        {
          "name": "stderr",
          "output_type": "stream",
          "text": [
            " 84%|████████▍ | 8410/10000 [11:49<00:25, 62.84it/s]"
          ]
        },
        {
          "name": "stdout",
          "output_type": "stream",
          "text": [
            "🚀 Episode 8400/10000, Average Reward: 0.66, Epsilon: 0.100\n",
            "action distribution: {0: 5, 1: 1, 2: 7, 3: 1, 4: 0, 5: 1, 6: 0}\n",
            "Key pick up rate: 1.0\n",
            "Door open rate: 1.0\n",
            "Success rate: 1.0\n"
          ]
        },
        {
          "name": "stderr",
          "output_type": "stream",
          "text": [
            " 85%|████████▌ | 8505/10000 [11:51<00:33, 44.32it/s]"
          ]
        },
        {
          "name": "stdout",
          "output_type": "stream",
          "text": [
            "🚀 Episode 8500/10000, Average Reward: 0.27, Epsilon: 0.100\n",
            "action distribution: {0: 3, 1: 4, 2: 13, 3: 2, 4: 2, 5: 7, 6: 2}\n",
            "Key pick up rate: 1.0\n",
            "Door open rate: 1.0\n",
            "Success rate: 0.99\n"
          ]
        },
        {
          "name": "stderr",
          "output_type": "stream",
          "text": [
            " 86%|████████▌ | 8613/10000 [11:54<00:23, 59.61it/s]"
          ]
        },
        {
          "name": "stdout",
          "output_type": "stream",
          "text": [
            "🚀 Episode 8600/10000, Average Reward: 0.63, Epsilon: 0.100\n",
            "action distribution: {0: 2, 1: 4, 2: 6, 3: 1, 4: 0, 5: 1, 6: 1}\n",
            "Key pick up rate: 1.0\n",
            "Door open rate: 1.0\n",
            "Success rate: 1.0\n"
          ]
        },
        {
          "name": "stderr",
          "output_type": "stream",
          "text": [
            " 87%|████████▋ | 8717/10000 [11:55<00:17, 75.11it/s]"
          ]
        },
        {
          "name": "stdout",
          "output_type": "stream",
          "text": [
            "🚀 Episode 8700/10000, Average Reward: 0.70, Epsilon: 0.100\n",
            "action distribution: {0: 2, 1: 3, 2: 10, 3: 1, 4: 0, 5: 2, 6: 1}\n",
            "Key pick up rate: 1.0\n",
            "Door open rate: 1.0\n",
            "Success rate: 1.0\n"
          ]
        },
        {
          "name": "stderr",
          "output_type": "stream",
          "text": [
            " 88%|████████▊ | 8816/10000 [11:57<00:18, 63.93it/s]"
          ]
        },
        {
          "name": "stdout",
          "output_type": "stream",
          "text": [
            "🚀 Episode 8800/10000, Average Reward: 0.41, Epsilon: 0.100\n",
            "action distribution: {0: 3, 1: 2, 2: 9, 3: 1, 4: 0, 5: 1, 6: 0}\n",
            "Key pick up rate: 1.0\n",
            "Door open rate: 1.0\n",
            "Success rate: 0.99\n"
          ]
        },
        {
          "name": "stderr",
          "output_type": "stream",
          "text": [
            " 89%|████████▉ | 8920/10000 [11:59<00:12, 84.45it/s]"
          ]
        },
        {
          "name": "stdout",
          "output_type": "stream",
          "text": [
            "🚀 Episode 8900/10000, Average Reward: 0.69, Epsilon: 0.100\n",
            "action distribution: {0: 2, 1: 2, 2: 12, 3: 3, 4: 1, 5: 1, 6: 1}\n",
            "Key pick up rate: 1.0\n",
            "Door open rate: 1.0\n",
            "Success rate: 1.0\n"
          ]
        },
        {
          "name": "stderr",
          "output_type": "stream",
          "text": [
            " 90%|█████████ | 9008/10000 [12:00<00:15, 63.94it/s]"
          ]
        },
        {
          "name": "stdout",
          "output_type": "stream",
          "text": [
            "🚀 Episode 9000/10000, Average Reward: 0.54, Epsilon: 0.100\n",
            "action distribution: {0: 5, 1: 8, 2: 13, 3: 4, 4: 4, 5: 5, 6: 5}\n",
            "Key pick up rate: 1.0\n",
            "Door open rate: 1.0\n",
            "Success rate: 0.99\n"
          ]
        },
        {
          "name": "stderr",
          "output_type": "stream",
          "text": [
            " 91%|█████████ | 9105/10000 [12:02<00:13, 67.00it/s]"
          ]
        },
        {
          "name": "stdout",
          "output_type": "stream",
          "text": [
            "🚀 Episode 9100/10000, Average Reward: 0.44, Epsilon: 0.100\n",
            "action distribution: {0: 2, 1: 3, 2: 9, 3: 1, 4: 0, 5: 3, 6: 0}\n",
            "Key pick up rate: 1.0\n",
            "Door open rate: 1.0\n",
            "Success rate: 0.99\n"
          ]
        },
        {
          "name": "stderr",
          "output_type": "stream",
          "text": [
            " 92%|█████████▏| 9213/10000 [12:04<00:13, 57.47it/s]"
          ]
        },
        {
          "name": "stdout",
          "output_type": "stream",
          "text": [
            "🚀 Episode 9200/10000, Average Reward: 0.30, Epsilon: 0.100\n",
            "action distribution: {0: 3, 1: 6, 2: 13, 3: 2, 4: 2, 5: 2, 6: 3}\n",
            "Key pick up rate: 1.0\n",
            "Door open rate: 1.0\n",
            "Success rate: 0.98\n"
          ]
        },
        {
          "name": "stderr",
          "output_type": "stream",
          "text": [
            " 93%|█████████▎| 9297/10000 [12:06<00:13, 50.56it/s]"
          ]
        },
        {
          "name": "stdout",
          "output_type": "stream",
          "text": [
            "🚀 Episode 9300/10000, Average Reward: 0.54, Epsilon: 0.100\n",
            "action distribution: {0: 69, 1: 69, 2: 264, 3: 41, 4: 53, 5: 70, 6: 74}\n",
            "Key pick up rate: 1.0\n",
            "Door open rate: 1.0\n",
            "Success rate: 0.99\n"
          ]
        },
        {
          "name": "stderr",
          "output_type": "stream",
          "text": [
            " 94%|█████████▍| 9424/10000 [12:08<00:08, 64.89it/s]"
          ]
        },
        {
          "name": "stdout",
          "output_type": "stream",
          "text": [
            "🚀 Episode 9400/10000, Average Reward: 0.20, Epsilon: 0.100\n",
            "action distribution: {0: 1, 1: 1, 2: 7, 3: 1, 4: 1, 5: 1, 6: 1}\n",
            "Key pick up rate: 1.0\n",
            "Door open rate: 1.0\n",
            "Success rate: 0.98\n"
          ]
        },
        {
          "name": "stderr",
          "output_type": "stream",
          "text": [
            " 95%|█████████▌| 9520/10000 [12:10<00:07, 63.09it/s]"
          ]
        },
        {
          "name": "stdout",
          "output_type": "stream",
          "text": [
            "🚀 Episode 9500/10000, Average Reward: 0.03, Epsilon: 0.100\n",
            "action distribution: {0: 1, 1: 3, 2: 9, 3: 2, 4: 0, 5: 1, 6: 0}\n",
            "Key pick up rate: 1.0\n",
            "Door open rate: 1.0\n",
            "Success rate: 0.97\n"
          ]
        },
        {
          "name": "stderr",
          "output_type": "stream",
          "text": [
            " 96%|█████████▌| 9608/10000 [12:11<00:05, 65.69it/s]"
          ]
        },
        {
          "name": "stdout",
          "output_type": "stream",
          "text": [
            "🚀 Episode 9600/10000, Average Reward: 0.67, Epsilon: 0.100\n",
            "action distribution: {0: 0, 1: 4, 2: 9, 3: 3, 4: 0, 5: 2, 6: 0}\n",
            "Key pick up rate: 1.0\n",
            "Door open rate: 1.0\n",
            "Success rate: 1.0\n"
          ]
        },
        {
          "name": "stderr",
          "output_type": "stream",
          "text": [
            " 97%|█████████▋| 9707/10000 [12:13<00:05, 53.55it/s]"
          ]
        },
        {
          "name": "stdout",
          "output_type": "stream",
          "text": [
            "🚀 Episode 9700/10000, Average Reward: 0.37, Epsilon: 0.100\n",
            "action distribution: {0: 5, 1: 8, 2: 11, 3: 10, 4: 7, 5: 4, 6: 5}\n",
            "Key pick up rate: 1.0\n",
            "Door open rate: 1.0\n",
            "Success rate: 0.99\n"
          ]
        },
        {
          "name": "stderr",
          "output_type": "stream",
          "text": [
            " 98%|█████████▊| 9814/10000 [12:15<00:03, 51.75it/s]"
          ]
        },
        {
          "name": "stdout",
          "output_type": "stream",
          "text": [
            "🚀 Episode 9800/10000, Average Reward: 0.47, Epsilon: 0.100\n",
            "action distribution: {0: 6, 1: 9, 2: 13, 3: 6, 4: 2, 5: 3, 6: 5}\n",
            "Key pick up rate: 1.0\n",
            "Door open rate: 1.0\n",
            "Success rate: 1.0\n"
          ]
        },
        {
          "name": "stderr",
          "output_type": "stream",
          "text": [
            " 99%|█████████▉| 9905/10000 [12:17<00:02, 45.27it/s]"
          ]
        },
        {
          "name": "stdout",
          "output_type": "stream",
          "text": [
            "🚀 Episode 9900/10000, Average Reward: 0.39, Epsilon: 0.100\n",
            "action distribution: {0: 3, 1: 2, 2: 9, 3: 1, 4: 1, 5: 1, 6: 0}\n",
            "Key pick up rate: 1.0\n",
            "Door open rate: 1.0\n",
            "Success rate: 0.99\n"
          ]
        },
        {
          "name": "stderr",
          "output_type": "stream",
          "text": [
            "100%|██████████| 10000/10000 [12:19<00:00, 13.51it/s]\n"
          ]
        },
        {
          "name": "stdout",
          "output_type": "stream",
          "text": [
            "🚀 Episode 10000/10000, Average Reward: 0.51, Epsilon: 0.100\n",
            "action distribution: {0: 2, 1: 1, 2: 8, 3: 1, 4: 0, 5: 1, 6: 0}\n",
            "Key pick up rate: 1.0\n",
            "Door open rate: 1.0\n",
            "Success rate: 1.0\n"
          ]
        },
        {
          "data": {
            "image/png": "[encoded data removed]",
            "text/plain": [
              "<Figure size 640x480 with 1 Axes>"
            ]
          },
          "metadata": {},
          "output_type": "display_data"
        }
      ],
      "source": [
        "# ✅ Run the training.\n",
        "print(\"🚀 Training MiniGrid-DoorKey-8x8-v0\")\n",
        "q_table, rewards = tabular_q_learning_adjust(\"MiniGrid-DoorKey-8x8-v0\", episodes=10000)\n",
        "plt.plot(rewards)\n",
        "plt.xlabel(\"Episodes\")\n",
        "plt.ylabel(\"Total Reward\")\n",
        "plt.title(\"Reward Shaping Training Progress\")\n",
        "plt.show()"
      ]
    },
    {
      "cell_type": "markdown",
      "metadata": {
        "id": "Izb9T1yFIt-Q"
      },
      "source": [
        "Now that you have trained your agent using reward shaping, let's visualize its performance in the **MiniGrid-DoorKey Environment**.  \n",
        "⚠️ Do not modify this cell—any changes will result in a score of 0 for your training code above."
      ]
    },
    {
      "cell_type": "code",
      "execution_count": 164,
      "metadata": {
        "colab": {
          "base_uri": "https://localhost:8080/",
          "height": 290
        },
        "id": "NgRlPgQwiZBr",
        "outputId": "1f438776-4934-4c9e-87f4-ca252b1d30a0"
      },
      "outputs": [
        {
          "name": "stdout",
          "output_type": "stream",
          "text": [
            "Total Reward: 0.97609375\n"
          ]
        },
        {
          "data": {
            "image/gif": "[encoded data removed]",
            "text/plain": [
              "<IPython.core.display.Image object>"
            ]
          },
          "execution_count": 164,
          "metadata": {},
          "output_type": "execute_result"
        }
      ],
      "source": [
        "run_learned_value(\"MiniGrid-DoorKey-8x8-v0\", q_table, max_steps=100)"
      ]
    },
    {
      "cell_type": "markdown",
      "metadata": {
        "id": "ioWeQB4DTncX"
      },
      "source": [
        "# **Question 3: Implementing Tabular Learning with PyTorch**  \n",
        "\n",
        "So far, we have implemented **Tabular Q-learning** using **NumPy** to store and update the Q-table.  \n",
        "However, in real-world **reinforcement learning**, deep learning frameworks like **PyTorch** are often used to handle **large state spaces** and optimize learning.  \n",
        "\n",
        "In this question, we will still use **tabular learning**, but instead of **NumPy**, we will implement **Q-learning** and **Policy Learning** using **PyTorch**.  \n",
        "\n",
        "\n",
        "✅ **Q-Learning Implementation (10 Points)**  \n",
        "- Correctly implements **Q-learning using PyTorch tensors** instead of NumPy.  \n",
        "- Successfully **trains the agent** and **demonstrates an animation of reaching the goal**.  \n",
        "\n",
        "✅ **Policy Learning Implementation (10 Points)**  \n",
        "- Correctly implements **policy-based learning using PyTorch**, including a **softmax policy**.  \n",
        "- Successfully **trains the agent** and **demonstrates an animation of reaching the goal**.  \n",
        "\n",
        "🚀 **Full Score (20 Points)**: If both Q-learning and Policy Learning are implemented correctly and the agent **successfully reaches the goal**, you have **earned all 20 points! 🎉**  "
      ]
    },
    {
      "cell_type": "code",
      "execution_count": null,
      "metadata": {
        "id": "JKKq0q1GTx6F"
      },
      "outputs": [],
      "source": [
        "from logging import logProcesses\n",
        "import torch\n",
        "import torch.nn as nn\n",
        "import torch.optim as optim\n",
        "\n",
        "def get_agent_state(env):\n",
        "    \"\"\"\n",
        "    ✅ Extract the agent's state as (x, y) position and direction.\n",
        "    \"\"\"\n",
        "    x, y = env.agent_pos  # Directly retrieve the agent's position.\n",
        "    direction = env.agent_dir  # Retrieve the agent's current direction.\n",
        "    return (x, y, direction)  # Return state as (x, y, direction).\n",
        "\n",
        "class PyTorchQTable:\n",
        "    def __init__(self, state_size, action_size, lr=0.1):\n",
        "        \"\"\"\n",
        "        ✅ PyTorch Q-table Implementation.\n",
        "        - Stores Q-values as a PyTorch tensor.\n",
        "        - Uses gradient-based updates instead of direct assignment.\n",
        "        - Optimizes learning using **Mean Squared Error (MSE)**.\n",
        "        \"\"\"\n",
        "        self.state_size = state_size\n",
        "        self.action_size = action_size\n",
        "\n",
        "        # ✅ TODO: Initialize the Q-table as a PyTorch tensor.\n",
        "        self.q_table = nn.Parameter(torch.rand((*state_size, action_size), requires_grad=True) * 0.01)\n",
        "        # print(self.q_table.shape)\n",
        "\n",
        "        # ✅ TODO: Use **Stochastic Gradient Descent (SGD)** or **Adam** for optimization.\n",
        "        self.optimizer = optim.Adam([self.q_table], lr=lr)\n",
        "\n",
        "        # ✅ TODO: Use **Mean Squared Error (MSE) loss** for training.\n",
        "        self.loss_fn = nn.MSELoss()\n",
        "\n",
        "    def update(self, state, action, target):\n",
        "        \"\"\"\n",
        "        ✅ Update the Q-value using PyTorch optimization.\n",
        "        \"\"\"\n",
        "        self.optimizer.zero_grad()\n",
        "\n",
        "        # ✅ TODO: Retrieve the current Q-value.\n",
        "        print(\"current q\", self.q_table[state])\n",
        "        current_q = self.q_table[state][action]\n",
        "        # print(current_q, target)\n",
        "\n",
        "        target = target.detach()\n",
        "        # ✅ TODO: Compute the **MSE loss**.\n",
        "        loss = self.loss_fn(current_q.unsqueeze(0), target.unsqueeze(0))\n",
        "        # print(current_q, target, loss)\n",
        "\n",
        "        # ✅ TODO: Perform **backpropagation**.\n",
        "        loss.requires_grad = True\n",
        "        loss.backward()\n",
        "\n",
        "        # ✅ TODO: Perform **gradient descent**.\n",
        "        self.optimizer.step()\n",
        "\n",
        "\n",
        "    def get_action(self, state, epsilon):\n",
        "        \"\"\"\n",
        "        ✅ Implements **ε-greedy action selection**.\n",
        "        \"\"\"\n",
        "        if np.random.rand() < epsilon:\n",
        "            return np.random.choice(self.action_size)  # Explore.\n",
        "        else:\n",
        "            with torch.no_grad():  # ✅ Ensure no gradient tracking\n",
        "                return torch.argmax(self.q_table[state]).item()  # Exploit.\n",
        "\n",
        "\n",
        "\n",
        "def train_pytorch_q_learning(env_name=\"MiniGrid-Empty-8x8-v0\", episodes=5000, alpha=0.05, gamma=0.99,\n",
        "                             epsilon_start=1.0, epsilon_end=0.1, decay_rate=0.9995):\n",
        "    \"\"\"\n",
        "    ✅ Train a Q-learning agent using **PyTorch tensors**.\n",
        "    \"\"\"\n",
        "    env = gym.make(env_name, max_episode_steps=10000)\n",
        "    state_size = (env.width, env.height, 4)  # (x, y, direction).\n",
        "    action_size = env.action_space.n\n",
        "\n",
        "    q_table = PyTorchQTable(state_size, action_size, lr=alpha)\n",
        "    epsilon = epsilon_start\n",
        "    rewards_per_episode = []\n",
        "    for episode in tqdm(range(episodes)):\n",
        "        obs, _ = env.reset()\n",
        "\n",
        "        # Retrieve the agent's state directly from the environment.\n",
        "        state = get_agent_state(env)\n",
        "\n",
        "        done = False\n",
        "        total_reward = 0\n",
        "        total_loss = 0\n",
        "        prev_q_table = q_table.q_table.clone().detach()\n",
        "        while not done:\n",
        "        #✅ TODO: Implement Q-learning using PyTorch Q-table.\n",
        "            action = q_table.get_action(state, epsilon)\n",
        "            obs, reward, done, truncated, _ = env.step(action)\n",
        "            total_reward += reward\n",
        "            next_state = get_agent_state(env)\n",
        "            # if truncated:\n",
        "            #     reward = -1\n",
        "\n",
        "            with torch.no_grad():\n",
        "                max_next_q = torch.max(q_table.q_table[next_state]).detach()\n",
        "                target = reward + gamma * max_next_q\n",
        "                print(\"target q\", q_table.q_table[next_state], target)\n",
        "            q_table.update(state, action, target)\n",
        "            # total_loss += loss\n",
        "            # print(f\"Updated Q-value for state {state}, action {action}: {q_table.q_table[state][action].item()}\")\n",
        "            state = next_state\n",
        "\n",
        "            if truncated:\n",
        "                q_table.q_table = prev_q_table.clone().requires_grad_(True)\n",
        "                # print((q_table.q_table == prev_q_table).all())\n",
        "                break\n",
        "        # Decay epsilon over time to reduce exploration.\n",
        "        epsilon = max(epsilon_end, epsilon * decay_rate)\n",
        "        rewards_per_episode.append(total_reward)\n",
        "        # Print progress every 100 episodes.\n",
        "        if (episode + 1) % 100 == 0:\n",
        "            avg_reward = np.mean(rewards_per_episode[-100:])\n",
        "            print(f\"Episode {episode + 1}/{episodes}, Avg Reward: {avg_reward:.4f}, Epsilon: {epsilon:.3f}\")\n",
        "            # print(f\"Episode {episode + 1}/{episodes}, Total Reward: {total_reward}, Epsilon: {epsilon:.3f}\")\n",
        "\n",
        "    env.close()\n",
        "    return q_table\n"
      ]
    },
    {
      "cell_type": "code",
      "execution_count": null,
      "metadata": {
        "id": "v5eINqFxwg90"
      },
      "outputs": [],
      "source": [
        "import torch\n",
        "import torch.nn as nn\n",
        "import torch.optim as optim\n",
        "\n",
        "def get_agent_state(env):\n",
        "    \"\"\"\n",
        "    ✅ Extract the agent's state as (x, y) position and direction.\n",
        "    \"\"\"\n",
        "    x, y = env.agent_pos  # Directly retrieve the agent's position.\n",
        "    direction = env.agent_dir  # Retrieve the agent's current direction.\n",
        "    return (x, y, direction)  # Return state as (x, y, direction).\n",
        "\n",
        "class PyTorchQTable:\n",
        "    def __init__(self, state_size, action_size, lr=0.1):\n",
        "        \"\"\"\n",
        "        ✅ PyTorch Q-table Implementation.\n",
        "        - Stores Q-values as a PyTorch tensor.\n",
        "        - Uses gradient-based updates instead of direct assignment.\n",
        "        - Optimizes learning using **Mean Squared Error (MSE)**.\n",
        "        \"\"\"\n",
        "        self.state_size = state_size\n",
        "        self.action_size = action_size\n",
        "\n",
        "        # ✅ TODO: Initialize the Q-table as a PyTorch tensor.\n",
        "        self.q_table = torch.zeros((*state_size, action_size), dtype=torch.float32, requires_grad=True)\n",
        "        temp_q_table = self.q_table.clone()  # Create a copy to avoid in-place modification\n",
        "        temp_q_table[:,:,:,4:] = -10  # Modify the copy\n",
        "        self.q_table = nn.Parameter(temp_q_table, requires_grad=True)  # Assign the modified copy back\n",
        "\n",
        "        # ✅ TODO: Use **Stochastic Gradient Descent (SGD)** or **Adam** for optimization.\n",
        "        self.optimizer = optim.SGD([self.q_table], lr=lr)\n",
        "\n",
        "        # ✅ TODO: Use **Mean Squared Error (MSE) loss** for training.\n",
        "        self.loss_fn = nn.MSELoss()\n",
        "\n",
        "    def update(self, state, action, target):\n",
        "        \"\"\"\n",
        "        ✅ Update the Q-value using PyTorch optimization.\n",
        "        \"\"\"\n",
        "        self.optimizer.zero_grad()\n",
        "\n",
        "        # ✅ TODO: Retrieve the current Q-value.\n",
        "        q_value = self.q_table[state][action]\n",
        "\n",
        "        # ✅ TODO: Compute the **MSE loss**.\n",
        "        loss = self.loss_fn(q_value, torch.tensor(target, dtype=torch.float32))\n",
        "\n",
        "        # ✅ TODO: Perform **backpropagation**.\n",
        "        loss.backward()\n",
        "\n",
        "        # ✅ TODO: Perform **gradient descent**.\n",
        "        self.optimizer.step()\n",
        "\n",
        "    def get_action(self, state, epsilon):\n",
        "        \"\"\"\n",
        "        ✅ Implements **ε-greedy action selection**.\n",
        "        \"\"\"\n",
        "        if np.random.rand() < epsilon:\n",
        "            return np.random.choice(self.action_size)  # Explore.\n",
        "        else:\n",
        "            return torch.argmax(self.q_table[state]).item()  # Exploit.\n",
        "\n",
        "\n",
        "\n",
        "def train_pytorch_q_learning(env_name=\"MiniGrid-Empty-8x8-v0\", episodes=5000, alpha=0.05, gamma=0.9,\n",
        "                             epsilon_start=1.0, epsilon_end=0.1, decay_rate=0.999):\n",
        "    # The default parameters should allow learning, but you can still adjust them to achieve better training performance.\n",
        "    \"\"\"\n",
        "    ✅ Train a Q-learning agent using **PyTorch tensors**.\n",
        "    \"\"\"\n",
        "    env = gym.make(env_name)\n",
        "    state_size = (env.width, env.height, 4)  # (x, y, direction).\n",
        "    action_size = env.action_space.n\n",
        "\n",
        "    q_table = PyTorchQTable(state_size, action_size, lr=alpha)\n",
        "    epsilon = epsilon_start\n",
        "    rewards_per_episode = []\n",
        "\n",
        "    for episode in tqdm(range(episodes)):\n",
        "        obs, _ = env.reset()\n",
        "\n",
        "        # Retrieve the agent's state directly from the environment.\n",
        "        state = get_agent_state(env)\n",
        "\n",
        "        done = False\n",
        "        total_reward = 0\n",
        "\n",
        "        while not done:\n",
        "        #✅ TODO: Implement Q-learning using PyTorch Q-table.\n",
        "            action = q_table.get_action(state, epsilon)\n",
        "            obs, reward, done, truncated, _ = env.step(action)\n",
        "            next_state = get_agent_state(env)\n",
        "\n",
        "            # Compute target Q-value using Bellman equation\n",
        "            target = reward + (gamma * torch.max(q_table.q_table[next_state]))\n",
        "\n",
        "            # Update Q-table using PyTorch optimizer\n",
        "            q_table.update(state, action, target)\n",
        "\n",
        "            state = next_state\n",
        "            total_reward += reward\n",
        "            if truncated:\n",
        "                break\n",
        "\n",
        "        rewards_per_episode.append(total_reward)\n",
        "\n",
        "        # TODO: Decay epsilon over time to gradually reduce exploration.\n",
        "        # if total_reward > 0.3:\n",
        "        epsilon = max(epsilon_end, epsilon * decay_rate)\n",
        "\n",
        "        if (episode + 1) % 100 == 0:\n",
        "            avg_reward = np.mean(rewards_per_episode[-100:])\n",
        "            print(f\"Episode {episode + 1}/{episodes}, Avg Reward: {avg_reward}, Epsilon: {epsilon:.3f}\")\n",
        "            # print(f\"Episode {episode + 1}/{episodes}, Total Reward: {total_reward}, Epsilon: {epsilon:.3f}\")\n",
        "\n",
        "    env.close()\n",
        "    return q_table"
      ]
    },
    {
      "cell_type": "markdown",
      "metadata": {
        "id": "RK271P93KHnG"
      },
      "source": [
        "Train the agent in MiniGrid-Empty-8x8 with PyTorch Q-learning.\n",
        "\n",
        "⚠️ **You can only adjust the episodes in this cell**—any others changes will result in a score of **0** for your training code above."
      ]
    },
    {
      "cell_type": "code",
      "execution_count": null,
      "metadata": {
        "colab": {
          "base_uri": "https://localhost:8080/"
        },
        "id": "Jg494Bq_UYTm",
        "outputId": "55a277a6-05be-4536-82b8-682742723fa7"
      },
      "outputs": [
        {
          "name": "stdout",
          "output_type": "stream",
          "text": [
            "🚀 Training PyTorch Q-learning on MiniGrid-Empty-8x8\n"
          ]
        },
        {
          "name": "stderr",
          "output_type": "stream",
          "text": [
            "  0%|          | 0/2000 [00:00<?, ?it/s]/usr/local/lib/python3.11/dist-packages/gym/utils/passive_env_checker.py:233: DeprecationWarning: `np.bool8` is a deprecated alias for `np.bool_`.  (Deprecated NumPy 1.24)\n",
            "  if not isinstance(terminated, (bool, np.bool8)):\n",
            "<ipython-input-26-6e7b32727197>:46: UserWarning: To copy construct from a tensor, it is recommended to use sourceTensor.clone().detach() or sourceTensor.clone().detach().requires_grad_(True), rather than torch.tensor(sourceTensor).\n",
            "  loss = self.loss_fn(q_value, torch.tensor(target, dtype=torch.float32))\n",
            "  5%|▌         | 101/2000 [00:18<03:36,  8.79it/s]"
          ]
        },
        {
          "name": "stdout",
          "output_type": "stream",
          "text": [
            "Episode 100/2000, Avg Reward: 0.20196093750000002, Epsilon: 0.905\n"
          ]
        },
        {
          "name": "stderr",
          "output_type": "stream",
          "text": [
            " 10%|█         | 203/2000 [00:26<01:47, 16.67it/s]"
          ]
        },
        {
          "name": "stdout",
          "output_type": "stream",
          "text": [
            "Episode 200/2000, Avg Reward: 0.6602343749999998, Epsilon: 0.819\n"
          ]
        },
        {
          "name": "stderr",
          "output_type": "stream",
          "text": [
            " 15%|█▌        | 305/2000 [00:31<00:54, 30.99it/s]"
          ]
        },
        {
          "name": "stdout",
          "output_type": "stream",
          "text": [
            "Episode 300/2000, Avg Reward: 0.7888164062500002, Epsilon: 0.741\n"
          ]
        },
        {
          "name": "stderr",
          "output_type": "stream",
          "text": [
            " 20%|██        | 404/2000 [00:35<01:01, 25.87it/s]"
          ]
        },
        {
          "name": "stdout",
          "output_type": "stream",
          "text": [
            "Episode 400/2000, Avg Reward: 0.8414453124999999, Epsilon: 0.670\n"
          ]
        },
        {
          "name": "stderr",
          "output_type": "stream",
          "text": [
            " 25%|██▌       | 504/2000 [00:37<00:42, 35.61it/s]"
          ]
        },
        {
          "name": "stdout",
          "output_type": "stream",
          "text": [
            "Episode 500/2000, Avg Reward: 0.8743867187499998, Epsilon: 0.606\n"
          ]
        },
        {
          "name": "stderr",
          "output_type": "stream",
          "text": [
            " 30%|███       | 606/2000 [00:40<00:30, 46.27it/s]"
          ]
        },
        {
          "name": "stdout",
          "output_type": "stream",
          "text": [
            "Episode 600/2000, Avg Reward: 0.89681640625, Epsilon: 0.549\n"
          ]
        },
        {
          "name": "stderr",
          "output_type": "stream",
          "text": [
            " 36%|███▌      | 710/2000 [00:42<00:23, 55.97it/s]"
          ]
        },
        {
          "name": "stdout",
          "output_type": "stream",
          "text": [
            "Episode 700/2000, Avg Reward: 0.90687109375, Epsilon: 0.496\n"
          ]
        },
        {
          "name": "stderr",
          "output_type": "stream",
          "text": [
            " 40%|████      | 809/2000 [00:44<00:21, 54.19it/s]"
          ]
        },
        {
          "name": "stdout",
          "output_type": "stream",
          "text": [
            "Episode 800/2000, Avg Reward: 0.9160820312499999, Epsilon: 0.449\n"
          ]
        },
        {
          "name": "stderr",
          "output_type": "stream",
          "text": [
            " 45%|████▌     | 905/2000 [00:46<00:25, 42.60it/s]"
          ]
        },
        {
          "name": "stdout",
          "output_type": "stream",
          "text": [
            "Episode 900/2000, Avg Reward: 0.9222343750000002, Epsilon: 0.406\n"
          ]
        },
        {
          "name": "stderr",
          "output_type": "stream",
          "text": [
            " 51%|█████     | 1011/2000 [00:48<00:15, 63.09it/s]"
          ]
        },
        {
          "name": "stdout",
          "output_type": "stream",
          "text": [
            "Episode 1000/2000, Avg Reward: 0.9240273437500001, Epsilon: 0.368\n"
          ]
        },
        {
          "name": "stderr",
          "output_type": "stream",
          "text": [
            " 56%|█████▌    | 1110/2000 [00:49<00:13, 68.39it/s]"
          ]
        },
        {
          "name": "stdout",
          "output_type": "stream",
          "text": [
            "Episode 1100/2000, Avg Reward: 0.9341875000000001, Epsilon: 0.333\n"
          ]
        },
        {
          "name": "stderr",
          "output_type": "stream",
          "text": [
            " 61%|██████    | 1214/2000 [00:51<00:10, 75.05it/s]"
          ]
        },
        {
          "name": "stdout",
          "output_type": "stream",
          "text": [
            "Episode 1200/2000, Avg Reward: 0.9364726562500002, Epsilon: 0.301\n"
          ]
        },
        {
          "name": "stderr",
          "output_type": "stream",
          "text": [
            " 66%|██████▌   | 1311/2000 [00:52<00:09, 75.61it/s]"
          ]
        },
        {
          "name": "stdout",
          "output_type": "stream",
          "text": [
            "Episode 1300/2000, Avg Reward: 0.9399882812499999, Epsilon: 0.272\n"
          ]
        },
        {
          "name": "stderr",
          "output_type": "stream",
          "text": [
            " 70%|███████   | 1409/2000 [00:53<00:07, 77.56it/s]"
          ]
        },
        {
          "name": "stdout",
          "output_type": "stream",
          "text": [
            "Episode 1400/2000, Avg Reward: 0.943046875, Epsilon: 0.246\n"
          ]
        },
        {
          "name": "stderr",
          "output_type": "stream",
          "text": [
            " 75%|███████▌  | 1509/2000 [00:54<00:05, 84.23it/s]"
          ]
        },
        {
          "name": "stdout",
          "output_type": "stream",
          "text": [
            "Episode 1500/2000, Avg Reward: 0.9442070312500002, Epsilon: 0.223\n"
          ]
        },
        {
          "name": "stderr",
          "output_type": "stream",
          "text": [
            " 81%|████████  | 1611/2000 [00:56<00:04, 88.01it/s]"
          ]
        },
        {
          "name": "stdout",
          "output_type": "stream",
          "text": [
            "Episode 1600/2000, Avg Reward: 0.9471601562499999, Epsilon: 0.202\n"
          ]
        },
        {
          "name": "stderr",
          "output_type": "stream",
          "text": [
            " 86%|████████▌ | 1714/2000 [00:57<00:03, 87.43it/s]"
          ]
        },
        {
          "name": "stdout",
          "output_type": "stream",
          "text": [
            "Episode 1700/2000, Avg Reward: 0.9467031249999998, Epsilon: 0.183\n"
          ]
        },
        {
          "name": "stderr",
          "output_type": "stream",
          "text": [
            " 90%|█████████ | 1809/2000 [00:58<00:02, 65.02it/s]"
          ]
        },
        {
          "name": "stdout",
          "output_type": "stream",
          "text": [
            "Episode 1800/2000, Avg Reward: 0.94821484375, Epsilon: 0.165\n"
          ]
        },
        {
          "name": "stderr",
          "output_type": "stream",
          "text": [
            " 96%|█████████▌| 1912/2000 [01:00<00:01, 83.96it/s]"
          ]
        },
        {
          "name": "stdout",
          "output_type": "stream",
          "text": [
            "Episode 1900/2000, Avg Reward: 0.9487421875, Epsilon: 0.149\n"
          ]
        },
        {
          "name": "stderr",
          "output_type": "stream",
          "text": [
            "100%|██████████| 2000/2000 [01:01<00:00, 32.65it/s]"
          ]
        },
        {
          "name": "stdout",
          "output_type": "stream",
          "text": [
            "Episode 2000/2000, Avg Reward: 0.9495507812500001, Epsilon: 0.135\n"
          ]
        },
        {
          "name": "stderr",
          "output_type": "stream",
          "text": [
            "\n"
          ]
        }
      ],
      "source": [
        "print(\"🚀 Training PyTorch Q-learning on MiniGrid-Empty-8x8\")\n",
        "q_table = train_pytorch_q_learning(\"MiniGrid-Empty-8x8-v0\", episodes=2000)"
      ]
    },
    {
      "cell_type": "code",
      "execution_count": null,
      "metadata": {
        "colab": {
          "base_uri": "https://localhost:8080/",
          "height": 290
        },
        "id": "XidA47wBMDBQ",
        "outputId": "cbe37a3b-647d-464b-bf67-e5a2cc4108d0"
      },
      "outputs": [
        {
          "name": "stdout",
          "output_type": "stream",
          "text": [
            "Total Reward: 0.9578125\n"
          ]
        },
        {
          "data": {
            "image/gif": "[encoded data removed]",
            "text/plain": [
              "<IPython.core.display.Image object>"
            ]
          },
          "execution_count": 29,
          "metadata": {},
          "output_type": "execute_result"
        }
      ],
      "source": [
        "def run_pytorch_q_learning(env_name=\"MiniGrid-Empty-8x8-v0\", q_table=None, max_steps=100, gif_path=\"minigrid_q_learning.gif\"): #gif_path=\"/content/minigrid_q_learning.gif\"):\n",
        "    \"\"\"\n",
        "    ✅ Runs a trained PyTorch Q-learning agent and visualizes its performance.\n",
        "    - Executes a single test episode using the trained **Q-table**.\n",
        "    - Saves the agent's movement as a **GIF**.\n",
        "\n",
        "    :param env_name: (str) Name of the MiniGrid environment.\n",
        "    :param q_table: (PyTorchQTable) Trained Q-table from PyTorch Q-learning.\n",
        "    :param max_steps: (int) Maximum steps allowed in the episode.\n",
        "    :param gif_path: (str) File path to save the GIF.\n",
        "    \"\"\"\n",
        "    env = gym.make(env_name, render_mode=\"rgb_array\")\n",
        "    obs, _ = env.reset()\n",
        "    state = get_agent_state(env)  # ✅ Retrieve the agent's initial state.\n",
        "\n",
        "    frames = []\n",
        "    total_reward = 0\n",
        "\n",
        "    for _ in range(max_steps):\n",
        "        frames.append(env.get_frame())  # ✅ Capture the environment frame for visualization.\n",
        "\n",
        "        # ✅ Select an action using the trained Q-table (exploitation).\n",
        "        action = q_table.get_action(state, epsilon=0)  # Greedy action selection.\n",
        "        # ✅ Execute the action in the environment.\n",
        "        obs, reward, done, truncated, _ = env.step(action)\n",
        "        total_reward += reward  # ✅ Accumulate total reward.\n",
        "        state = get_agent_state(env)  # ✅ Update the agent's state.\n",
        "\n",
        "        if done:\n",
        "            break  # ✅ Stop if the goal is reached.\n",
        "\n",
        "    frames.append(env.get_frame())\n",
        "    env.close()\n",
        "# Do not modify the code below—any changes will result in a score of 0 for your training code above.\n",
        "    # ✅ Save the frames as a GIF to visualize the agent's behavior.\n",
        "    imageio.mimsave(gif_path, frames, fps=5)\n",
        "    print(f\"Total Reward: {total_reward}\")\n",
        "\n",
        "    return Image(filename=gif_path)\n",
        "\n",
        "run_pytorch_q_learning(\"MiniGrid-Empty-8x8-v0\", q_table)\n"
      ]
    },
    {
      "cell_type": "markdown",
      "metadata": {
        "id": "XaObafXJUP2y"
      },
      "source": [
        "Instead of directly updating **Q-values**, we will now train an explicit **policy** using **Softmax Policy Gradients**.  \n",
        "\n",
        "### **📌 What is Softmax Policy Gradient?**  \n",
        "In **value-based reinforcement learning** (e.g., Q-learning), an agent **learns a Q-table** that estimates the value of each action in a given state. However, instead of storing and updating Q-values, **policy-based methods** directly learn a **policy** that maps states to actions.  \n",
        "\n",
        "The **Softmax Policy Gradient** approach uses a **probabilistic policy representation**, where action selection is based on a **Softmax function** applied to policy scores. This enables the agent to explore actions **proportionally to their estimated effectiveness**, rather than always selecting the highest-value action.  \n",
        "\n",
        "### **🛠 How Does It Work?**  \n",
        "1. **The policy is represented by a probability distribution** over actions for each state.  \n",
        "2. **The agent selects an action using Softmax probabilities**, rather than choosing greedily based on a Q-table.  \n",
        "3. **The policy is updated using gradient ascent**, optimizing a loss function (e.g., Cross-Entropy Loss).  \n",
        "4. **The agent improves its action selection strategy over time** by reinforcing actions that lead to higher rewards.  \n",
        "\n",
        "### **🎯 Why Use Softmax Policy Gradients?**  \n",
        "- ✅ **Handles large state spaces** more effectively than tabular Q-learning.  \n",
        "- ✅ **Encourages exploration** by selecting actions probabilistically instead of always taking the best-known action.  \n",
        "- ✅ **More suitable for stochastic environments**, where actions should not always be deterministic.  \n",
        "- ✅ **Lays the foundation for deep policy-based RL**, such as REINFORCE and Actor-Critic methods.  \n",
        "\n",
        "In this section, we will implement **policy learning** using **PyTorch** and train the agent using the **Softmax Policy Gradient method**.\n"
      ]
    },
    {
      "cell_type": "code",
      "execution_count": null,
      "metadata": {
        "id": "tS8rcS35UCdw"
      },
      "outputs": [],
      "source": [
        "class PyTorchPolicy:\n",
        "    def __init__(self, state_size, action_size, lr=0.1):\n",
        "        \"\"\"\n",
        "        ✅ Implements a Softmax Policy using PyTorch.\n",
        "        - Stores action probabilities as a PyTorch tensor.\n",
        "        - Uses **Cross-Entropy Loss** for learning.\n",
        "        \"\"\"\n",
        "        self.state_size = state_size\n",
        "        self.action_size = action_size\n",
        "\n",
        "        # ✅ TODO: Initialize the policy tensor.\n",
        "        self.policy = nn.Parameter(torch.rand((*state_size, action_size), requires_grad=True) * 0.01)\n",
        "\n",
        "        # ✅ TODO: Use **Adam optimizer** for policy optimization.\n",
        "        self.optimizer = optim.Adam([self.policy], lr=lr)\n",
        "\n",
        "        # ✅ TODO: Use **Cross-Entropy Loss** for training.\n",
        "        self.loss_fn = nn.CrossEntropyLoss()\n",
        "\n",
        "    def get_action(self, state):\n",
        "        \"\"\"\n",
        "        ✅ Sample an action based on **Softmax probabilities**.\n",
        "        \"\"\"\n",
        "        # ✅ TODO: Compute softmax probabilities over available actions.\n",
        "        probs = torch.softmax(self.policy[state], dim=0)\n",
        "\n",
        "        # ✅ TODO: Sample an action based on the computed probabilities.\n",
        "        action = torch.multinomial(probs, 1).item()\n",
        "        return action\n",
        "\n",
        "    def update(self, state, action, reward):\n",
        "        \"\"\"\n",
        "        ✅ Update the policy using **Cross-Entropy Loss**.\n",
        "        \"\"\"\n",
        "        self.optimizer.zero_grad()\n",
        "\n",
        "        # ✅ TODO: Convert action to a tensor for loss calculation.\n",
        "        action_tensor = torch.tensor([action])\n",
        "\n",
        "        # ✅ TODO: Compute **Cross-Entropy Loss**.\n",
        "        loss = self.loss_fn(self.policy[state].unsqueeze(0), action_tensor) * reward\n",
        "\n",
        "        # ✅ TODO: Perform **backpropagation**.\n",
        "        loss.backward()\n",
        "\n",
        "        # ✅ TODO: Perform **gradient descent optimization**.\n",
        "        self.optimizer.step()\n",
        "\n",
        "\n",
        "\n",
        "def train_pytorch_policy_learning(env_name=\"MiniGrid-Empty-8x8-v0\", episodes=5000, alpha=0.05, gamma=0.99):\n",
        "    \"\"\"\n",
        "    ✅ Train Policy Learning using **Softmax Policy Gradient**.\n",
        "    - Stores policy probabilities using **PyTorch tensors**.\n",
        "    - Updates policy using **Cross-Entropy Loss**.\n",
        "    - Optimizes policy using **Adam**.\n",
        "    \"\"\"\n",
        "    env = gym.make(env_name)\n",
        "    state_size = (env.width, env.height, 4)  # (x, y, direction).\n",
        "    action_size = env.action_space.n\n",
        "\n",
        "    policy_model = PyTorchPolicy(state_size, action_size, lr=alpha)\n",
        "    for episode in tqdm(range(episodes)):\n",
        "        obs, _ = env.reset()\n",
        "\n",
        "        # Retrieve the agent's state directly from the environment.\n",
        "        state = get_agent_state(env)\n",
        "\n",
        "        done = False\n",
        "        total_reward = 0\n",
        "        trajectory = []  # Store (state, action, reward) for policy update\n",
        "        # ✅ TODO: Implement Policy Learning.\n",
        "        while not done:\n",
        "            action = policy_model.get_action(state)\n",
        "            obs, reward, done, truncated, _ = env.step(action)\n",
        "            next_state = get_agent_state(env)\n",
        "            total_reward += reward\n",
        "            trajectory.append((state, action, reward))\n",
        "            state = next_state\n",
        "            if truncated:\n",
        "                break\n",
        "\n",
        "\n",
        "        G = 0  # Return (discounted sum of rewards)\n",
        "        for t in reversed(range(len(trajectory))):\n",
        "            state, action, reward = trajectory[t]\n",
        "            G = reward + gamma * G  # Discounted reward\n",
        "\n",
        "            policy_model.update(state, action, G)\n",
        "\n",
        "        # Print progress every 1000 episodes.\n",
        "        if (episode + 1) % 100 == 0:\n",
        "            print(f\"Episode {episode + 1}/{episodes}, Total Reward: {total_reward}\")\n",
        "\n",
        "    env.close()\n",
        "    return policy_model\n"
      ]
    },
    {
      "cell_type": "markdown",
      "metadata": {
        "id": "kGr2lFmZKy4k"
      },
      "source": [
        "Train the agent in MiniGrid-Empty-8x8 with PyTorch policy learning.\n",
        "\n",
        "⚠️ **You can only adjust the episodes in this cell**—any others changes will result in a score of **0** for your training code above."
      ]
    },
    {
      "cell_type": "code",
      "execution_count": null,
      "metadata": {
        "id": "v2NbKUpYUdBc",
        "outputId": "2d9adf61-4b45-43d7-9fef-f1b0b3c51389"
      },
      "outputs": [
        {
          "name": "stdout",
          "output_type": "stream",
          "text": [
            "🚀 Training PyTorch Policy Learning on MiniGrid-Empty-8x8\n"
          ]
        },
        {
          "name": "stderr",
          "output_type": "stream",
          "text": [
            "  6%|▌         | 111/2000 [00:09<00:41, 45.51it/s]"
          ]
        },
        {
          "name": "stdout",
          "output_type": "stream",
          "text": [
            "Episode 100/2000, Total Reward: 0.94375\n"
          ]
        },
        {
          "name": "stderr",
          "output_type": "stream",
          "text": [
            " 10%|█         | 209/2000 [00:11<00:33, 54.01it/s]"
          ]
        },
        {
          "name": "stdout",
          "output_type": "stream",
          "text": [
            "Episode 200/2000, Total Reward: 0.90859375\n"
          ]
        },
        {
          "name": "stderr",
          "output_type": "stream",
          "text": [
            " 15%|█▌        | 307/2000 [00:13<00:26, 62.94it/s]"
          ]
        },
        {
          "name": "stdout",
          "output_type": "stream",
          "text": [
            "Episode 300/2000, Total Reward: 0.947265625\n"
          ]
        },
        {
          "name": "stderr",
          "output_type": "stream",
          "text": [
            " 21%|██        | 411/2000 [00:15<00:20, 76.25it/s]"
          ]
        },
        {
          "name": "stdout",
          "output_type": "stream",
          "text": [
            "Episode 400/2000, Total Reward: 0.947265625\n"
          ]
        },
        {
          "name": "stderr",
          "output_type": "stream",
          "text": [
            " 26%|██▌       | 515/2000 [00:16<00:19, 76.42it/s]"
          ]
        },
        {
          "name": "stdout",
          "output_type": "stream",
          "text": [
            "Episode 500/2000, Total Reward: 0.947265625\n"
          ]
        },
        {
          "name": "stderr",
          "output_type": "stream",
          "text": [
            " 31%|███       | 611/2000 [00:17<00:18, 76.89it/s]"
          ]
        },
        {
          "name": "stdout",
          "output_type": "stream",
          "text": [
            "Episode 600/2000, Total Reward: 0.947265625\n"
          ]
        },
        {
          "name": "stderr",
          "output_type": "stream",
          "text": [
            " 36%|███▌      | 715/2000 [00:19<00:16, 75.89it/s]"
          ]
        },
        {
          "name": "stdout",
          "output_type": "stream",
          "text": [
            "Episode 700/2000, Total Reward: 0.947265625\n"
          ]
        },
        {
          "name": "stderr",
          "output_type": "stream",
          "text": [
            " 40%|████      | 809/2000 [00:20<00:16, 72.69it/s]"
          ]
        },
        {
          "name": "stdout",
          "output_type": "stream",
          "text": [
            "Episode 800/2000, Total Reward: 0.947265625\n"
          ]
        },
        {
          "name": "stderr",
          "output_type": "stream",
          "text": [
            " 46%|████▌     | 913/2000 [00:21<00:14, 75.65it/s]"
          ]
        },
        {
          "name": "stdout",
          "output_type": "stream",
          "text": [
            "Episode 900/2000, Total Reward: 0.947265625\n"
          ]
        },
        {
          "name": "stderr",
          "output_type": "stream",
          "text": [
            " 51%|█████     | 1015/2000 [00:23<00:14, 68.52it/s]"
          ]
        },
        {
          "name": "stdout",
          "output_type": "stream",
          "text": [
            "Episode 1000/2000, Total Reward: 0.947265625\n"
          ]
        },
        {
          "name": "stderr",
          "output_type": "stream",
          "text": [
            " 55%|█████▌    | 1105/2000 [00:25<00:15, 58.66it/s]"
          ]
        },
        {
          "name": "stdout",
          "output_type": "stream",
          "text": [
            "Episode 1100/2000, Total Reward: 0.940234375\n"
          ]
        },
        {
          "name": "stderr",
          "output_type": "stream",
          "text": [
            " 60%|██████    | 1206/2000 [00:27<00:14, 53.77it/s]"
          ]
        },
        {
          "name": "stdout",
          "output_type": "stream",
          "text": [
            "Episode 1200/2000, Total Reward: 0.926171875\n"
          ]
        },
        {
          "name": "stderr",
          "output_type": "stream",
          "text": [
            " 65%|██████▌   | 1307/2000 [00:28<00:09, 72.57it/s]"
          ]
        },
        {
          "name": "stdout",
          "output_type": "stream",
          "text": [
            "Episode 1300/2000, Total Reward: 0.940234375\n"
          ]
        },
        {
          "name": "stderr",
          "output_type": "stream",
          "text": [
            " 70%|███████   | 1409/2000 [00:29<00:08, 67.67it/s]"
          ]
        },
        {
          "name": "stdout",
          "output_type": "stream",
          "text": [
            "Episode 1400/2000, Total Reward: 0.94375\n"
          ]
        },
        {
          "name": "stderr",
          "output_type": "stream",
          "text": [
            " 76%|███████▌  | 1513/2000 [00:31<00:06, 75.45it/s]"
          ]
        },
        {
          "name": "stdout",
          "output_type": "stream",
          "text": [
            "Episode 1500/2000, Total Reward: 0.947265625\n"
          ]
        },
        {
          "name": "stderr",
          "output_type": "stream",
          "text": [
            " 80%|████████  | 1609/2000 [00:32<00:05, 77.48it/s]"
          ]
        },
        {
          "name": "stdout",
          "output_type": "stream",
          "text": [
            "Episode 1600/2000, Total Reward: 0.947265625\n"
          ]
        },
        {
          "name": "stderr",
          "output_type": "stream",
          "text": [
            " 86%|████████▌ | 1713/2000 [00:33<00:03, 77.65it/s]"
          ]
        },
        {
          "name": "stdout",
          "output_type": "stream",
          "text": [
            "Episode 1700/2000, Total Reward: 0.947265625\n"
          ]
        },
        {
          "name": "stderr",
          "output_type": "stream",
          "text": [
            " 90%|█████████ | 1809/2000 [00:35<00:02, 77.51it/s]"
          ]
        },
        {
          "name": "stdout",
          "output_type": "stream",
          "text": [
            "Episode 1800/2000, Total Reward: 0.947265625\n"
          ]
        },
        {
          "name": "stderr",
          "output_type": "stream",
          "text": [
            " 96%|█████████▌| 1913/2000 [00:36<00:01, 77.38it/s]"
          ]
        },
        {
          "name": "stdout",
          "output_type": "stream",
          "text": [
            "Episode 1900/2000, Total Reward: 0.947265625\n"
          ]
        },
        {
          "name": "stderr",
          "output_type": "stream",
          "text": [
            "100%|██████████| 2000/2000 [00:37<00:00, 53.13it/s]"
          ]
        },
        {
          "name": "stdout",
          "output_type": "stream",
          "text": [
            "Episode 2000/2000, Total Reward: 0.947265625\n"
          ]
        },
        {
          "name": "stderr",
          "output_type": "stream",
          "text": [
            "\n"
          ]
        }
      ],
      "source": [
        "print(\"🚀 Training PyTorch Policy Learning on MiniGrid-Empty-8x8\")\n",
        "policy_model = train_pytorch_policy_learning(\"MiniGrid-Empty-8x8-v0\", episodes=2000)"
      ]
    },
    {
      "cell_type": "markdown",
      "metadata": {
        "id": "ei0Lq5lqLQCc"
      },
      "source": [
        "Now that you have trained your agent using **PyTorch policy learning**, let's visualize its performance in the **MiniGrid environment**.  \n",
        "\n",
        "This function runs a **test episode** using the learned **policy table (π-table)** and records the agent's movement as a **GIF**.\n",
        "\n",
        "⚠️ Do not modify this cell—any changes will result in a score of 0 for your training code above.\n"
      ]
    },
    {
      "cell_type": "code",
      "execution_count": null,
      "metadata": {
        "id": "cDYs0Dp4Uxp-",
        "outputId": "6eb955ce-31a1-423f-81e4-69f9acbb8767"
      },
      "outputs": [
        {
          "name": "stdout",
          "output_type": "stream",
          "text": [
            "🚀 Running PyTorch Policy Learning agent\n",
            "Total Reward: 0.947265625\n"
          ]
        },
        {
          "data": {
            "image/gif": "[encoded data removed]",
            "text/plain": [
              "<IPython.core.display.Image object>"
            ]
          },
          "execution_count": 24,
          "metadata": {},
          "output_type": "execute_result"
        }
      ],
      "source": [
        "def run_pytorch_policy_learning(env_name, policy_model, max_steps=100, gif_path=\"minigrid_policy_learning.gif\"): #gif_path=\"/content/minigrid_policy_learning.gif\"):\n",
        "    \"\"\"\n",
        "    ✅ Run a trained PyTorch Policy agent and save a GIF\n",
        "    \"\"\"\n",
        "    env = gym.make(env_name, render_mode=\"rgb_array\")\n",
        "    obs, _ = env.reset()\n",
        "    state = get_agent_state(env)\n",
        "    frames = []\n",
        "    total_reward = 0\n",
        "\n",
        "    for _ in range(max_steps):\n",
        "        frames.append(env.get_frame())\n",
        "\n",
        "        action = policy_model.get_action(state)  # Select action using learned policy\n",
        "        obs, reward, done, truncated, _ = env.step(action)\n",
        "        total_reward += reward\n",
        "        state = get_agent_state(env)\n",
        "\n",
        "        if done:\n",
        "            break\n",
        "    frames.append(env.get_frame())\n",
        "    env.close()\n",
        "\n",
        "    # Save GIF\n",
        "    imageio.mimsave(gif_path, frames, fps=5)\n",
        "    print(f\"Total Reward: {total_reward}\")\n",
        "\n",
        "    # Display GIF\n",
        "    return Image(filename=gif_path)\n",
        "\n",
        "# ✅ Run the trained policy agent\n",
        "print(\"🚀 Running PyTorch Policy Learning agent\")\n",
        "run_pytorch_policy_learning(\"MiniGrid-Empty-8x8-v0\", policy_model)\n"
      ]
    },
    {
      "cell_type": "code",
      "execution_count": null,
      "metadata": {
        "id": "ls2qVzIzUwEH"
      },
      "outputs": [],
      "source": []
    }
  ],
  "metadata": {
    "colab": {
      "gpuType": "T4",
      "provenance": []
    },
    "kernelspec": {
      "display_name": "drl_hw1",
      "language": "python",
      "name": "python3"
    },
    "language_info": {
      "codemirror_mode": {
        "name": "ipython",
        "version": 3
      },
      "file_extension": ".py",
      "mimetype": "text/x-python",
      "name": "python",
      "nbconvert_exporter": "python",
      "pygments_lexer": "ipython3",
      "version": "3.10.16"
    }
  },
  "nbformat": 4,
  "nbformat_minor": 0
}
